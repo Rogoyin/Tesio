{
 "cells": [
  {
   "cell_type": "code",
   "execution_count": 1,
   "metadata": {},
   "outputs": [],
   "source": [
    "import pandas as pd\n",
    "import numpy as np\n",
    "import seaborn as sns\n",
    "import matplotlib.pyplot as plt\n",
    "from collections import Counter\n",
    "\n",
    "import sys\n",
    "sys.path.append('c:/Users/tomas/Documents/Programación/Github/Patricionog/Modulio')\n",
    "import Foragio as fg\n",
    "import Excelio as ex\n",
    "import Framio as fr\n",
    "import Stringio as st\n",
    "import Listio as ls\n",
    "import Graphio as gr"
   ]
  },
  {
   "cell_type": "code",
   "execution_count": 2,
   "metadata": {},
   "outputs": [],
   "source": [
    "# Pathways en diferentes computadoras dónde están las databases.\n",
    "Paths = {'PC_Depto': 'J:/My Drive/Experimento/Plantillas finales/',\n",
    "         'Notebook_Nico': '',\n",
    "         'PC_Neque': '',\n",
    "         'PC_Sol': '',\n",
    "         'PC_Forraje': ''}\n",
    "\n",
    "# Definir computadora en que se va a trabajar.\n",
    "PC = 'PC_Depto'\n",
    "\n",
    "# Definir la base en que se va a operar.\n",
    "Base = '1. Ballotage - Original.xlsx'\n",
    "\n",
    "# Crear dataframe.\n",
    "df = pd.read_excel(Paths[PC] + Base)"
   ]
  },
  {
   "cell_type": "markdown",
   "metadata": {},
   "source": [
    "### __Dataframe con columnas que especifican el tipo de candidato del ítem__"
   ]
  },
  {
   "cell_type": "code",
   "execution_count": null,
   "metadata": {},
   "outputs": [],
   "source": [
    "# Columnas a combinar y columna resultante (la 3).\n",
    "Column1 = ['cambio_op_con_der', 'cambio_op_con_der_tiempo', 'cambio_op_pro_der', 'cambio_op_pro_der_tiempo']\n",
    "Column2 = ['cambio_op_con_izq', 'cambio_op_con_izq_tiempo', 'cambio_op_pro_izq', 'cambio_op_pro_izq_tiempo']\n",
    "Column3 = ['cambio_op_con', 'cambio_op_con_tiempo', 'cambio_op_pro', 'cambio_op_pro_tiempo']\n",
    "\n",
    "# Promedio de ambas.\n",
    "Operation = 'Average'"
   ]
  },
  {
   "cell_type": "code",
   "execution_count": null,
   "metadata": {},
   "outputs": [],
   "source": [
    "# Bucle de operación combinando columnas.\n",
    "for Index, Column in enumerate(Column1):\n",
    "    df = fr.Combine_Columns(df, Column1[Index], Column2[Index], Column3[Index], Operation)"
   ]
  },
  {
   "cell_type": "code",
   "execution_count": null,
   "metadata": {},
   "outputs": [],
   "source": [
    "# Dataframe con candidatos de izquierda.\n",
    "df_izq = df.copy()\n",
    "\n",
    "# Columnas nuevas especificando el tipo de candidato para cada tipo de ítem.\n",
    "df_izq['Tipo_Candidato_Pro'] = 'Izquierda'\n",
    "df_izq['Tipo_Candidato_Con'] = 'Izquierda'\n",
    "\n",
    "# Columnas de derecha que se van a eliminar.\n",
    "Columnas_der = ['cambio_op_con_der', 'cambio_op_con_der_tiempo', 'cambio_op_pro_der', 'cambio_op_pro_der_tiempo']\n",
    "\n",
    "# Eliminación.\n",
    "df_izq = df_izq.drop(columns=Columnas_der)\n",
    "\n",
    "# Diccionario con cambio de nombres.\n",
    "Dict_izq = {'cambio_op_con_izq': 'cambio_op_con',\n",
    "            'cambio_op_con_izq_tiempo': 'cambio_op_con_tiempo',\n",
    "            'cambio_op_pro_izq': 'cambio_op_pro',\n",
    "            'cambio_op_pro_izq_tiempo': 'cambio_op_pro_tiempo'}\n",
    "\n",
    "# Cambio de nombres.\n",
    "df_izq = fr.Change_Column_Names_By_Dictionary(df_izq, Dict_izq)\n",
    "\n",
    "df_izq.head()"
   ]
  },
  {
   "cell_type": "code",
   "execution_count": null,
   "metadata": {},
   "outputs": [],
   "source": [
    "# Dataframe con candidatos de derecha.\n",
    "df_der = df.copy()\n",
    "\n",
    "# Columnas nuevas especificando el tipo de candidato para cada tipo de ítem.\n",
    "df_der['Tipo_Candidato_Pro'] = 'Derecha'\n",
    "df_der['Tipo_Candidato_Con'] = 'Derecha'\n",
    "\n",
    "# Columnas de izquierda que se van a eliminar.\n",
    "Columnas_izq = ['cambio_op_con_izq', 'cambio_op_con_izq_tiempo', 'cambio_op_pro_izq', 'cambio_op_pro_izq_tiempo']\n",
    "\n",
    "# Eliminación.\n",
    "df_der = df_der.drop(columns=Columnas_izq)\n",
    "\n",
    "# Diccionario con cambio de nombres.\n",
    "Dict_der = {'cambio_op_con_der': 'cambio_op_con',\n",
    "            'cambio_op_con_der_tiempo': 'cambio_op_con_tiempo',\n",
    "            'cambio_op_pro_der': 'cambio_op_pro',\n",
    "            'cambio_op_pro_der_tiempo': 'cambio_op_pro_tiempo'}\n",
    "\n",
    "# Cambio de nombres.\n",
    "df_der = fr.Change_Column_Names_By_Dictionary(df_der, Dict_der)\n",
    "\n",
    "df_der.head()"
   ]
  },
  {
   "cell_type": "code",
   "execution_count": null,
   "metadata": {},
   "outputs": [],
   "source": [
    "# Concatenar ambos dfs.\n",
    "df_Concatenado = pd.concat([df_der, df_izq])"
   ]
  },
  {
   "cell_type": "code",
   "execution_count": null,
   "metadata": {},
   "outputs": [],
   "source": [
    "# Guardar df.\n",
    "df_Concatenado.to_excel('J:/My Drive/Experimento/Plantillas finales/9. Ballotage - Candidatos desglosados.xlsx', index=False)"
   ]
  }
 ],
 "metadata": {
  "kernelspec": {
   "display_name": "Python 3",
   "language": "python",
   "name": "python3"
  },
  "language_info": {
   "codemirror_mode": {
    "name": "ipython",
    "version": 3
   },
   "file_extension": ".py",
   "mimetype": "text/x-python",
   "name": "python",
   "nbconvert_exporter": "python",
   "pygments_lexer": "ipython3",
   "version": "3.11.9"
  }
 },
 "nbformat": 4,
 "nbformat_minor": 2
}
