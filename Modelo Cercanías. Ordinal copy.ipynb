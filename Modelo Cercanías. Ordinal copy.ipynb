{
 "cells": [
  {
   "cell_type": "code",
   "execution_count": 1,
   "metadata": {},
   "outputs": [],
   "source": [
    "import pandas as pd\n",
    "import numpy as np\n",
    "import seaborn as sns\n",
    "import matplotlib.pyplot as plt\n",
    "from collections import Counter\n",
    "\n",
    "import sys\n",
    "sys.path.append('c:/Users/tomas/Documents/Programación/Github/Patricionog/Modulio/Readmes')\n",
    "import Appio as ap\n",
    "import Archivio as ac\n",
    "import Databasio as bd\n",
    "import Datetimio as dt\n",
    "import Dictio as dc\n",
    "import Excelio as ex\n",
    "import Footio as ft\n",
    "import Foragio as fg\n",
    "import Framio as fr\n",
    "import Graphio as gr\n",
    "import Highlightio as hg\n",
    "import Inputio as ip\n",
    "import Listio as ls\n",
    "import Mathio as mt\n",
    "import Notio as nt\n",
    "import Numbio as nb\n",
    "import Numpio as nm\n",
    "import Stringio as st\n",
    "import Timio as tm\n",
    "import Tkintio as tn\n",
    "import Toolio as to\n",
    "\n",
    "import statsmodels.api as sm\n",
    "from statsmodels.stats.outliers_influence import variance_inflation_factor\n",
    "from statsmodels.miscmodels.ordinal_model import OrderedModel\n",
    "from statsmodels.stats.proportion import proportions_chisquare\n",
    "from statsmodels.stats.diagnostic import linear_harvey_collier\n",
    "from scipy import stats"
   ]
  },
  {
   "cell_type": "code",
   "execution_count": null,
   "metadata": {},
   "outputs": [],
   "source": [
    "import pandas as pd\n",
    "#from pymer4.models import Lmer\n",
    "from sklearn.preprocessing import StandardScaler"
   ]
  },
  {
   "cell_type": "code",
   "execution_count": 3,
   "metadata": {},
   "outputs": [],
   "source": [
    "# Cargar df.\n",
    "df = pd.read_excel('J:/My Drive/Experimento/Plantillas finales/1. Generales - Original.xlsx')\n"
   ]
  },
  {
   "cell_type": "code",
   "execution_count": 4,
   "metadata": {},
   "outputs": [],
   "source": [
    "\n",
    "# Definir variables.\n",
    "Variables_Independientes = ['genero',\n",
    "                             'edad',\n",
    "                             'voto_2019',\n",
    "                             'autopercep_izqder',\n",
    "                             'autopercep_conpro',\n",
    "                             'autopercep_perantiper',\n",
    "                             'indice_positividad',\n",
    "                             'indice_progresismo',\n",
    "                             'indice_conservadurismo']\n",
    "\n",
    "Variables_Dependientes = ['cercania_Massa', 'cercania_Milei',\n",
    "                          'cercania_Bregman', 'cercania_Bullrich', 'cercania_Schiaretti']\n"
   ]
  },
  {
   "cell_type": "code",
   "execution_count": 5,
   "metadata": {},
   "outputs": [],
   "source": [
    "\n",
    "# Rellenar valores NaN con 0 para todo el DataFrame.\n",
    "df.fillna(0, inplace=True)\n"
   ]
  },
  {
   "cell_type": "code",
   "execution_count": 6,
   "metadata": {},
   "outputs": [],
   "source": [
    "\n",
    "# Cortar df.\n",
    "df = df[Variables_Dependientes + Variables_Independientes]\n"
   ]
  },
  {
   "cell_type": "code",
   "execution_count": 7,
   "metadata": {},
   "outputs": [],
   "source": [
    "\n",
    "# Convertir variables categóricas a dummies.\n",
    "for Column in Variables_Independientes:\n",
    "    if df[Column].dtype == 'object':\n",
    "        df = fr.Create_Dummy_Variables(df, Column, Drop_First=False, Group_Others=True, Remove_Others=False, \n",
    "                                        Threshold=0.05, Name_Other_Column=f\"{Column}_Others\", Name_Columns_Style=None, Separator=None)\n"
   ]
  },
  {
   "cell_type": "code",
   "execution_count": 8,
   "metadata": {},
   "outputs": [],
   "source": [
    "\n",
    "# Reemplazar espacios en los nombres de las columnas con guiones bajos\n",
    "df.columns = df.columns.str.replace(' ', '_')\n"
   ]
  },
  {
   "cell_type": "code",
   "execution_count": 9,
   "metadata": {},
   "outputs": [],
   "source": [
    "\n",
    "# Object to numeric df.\n",
    "def Convert_Object_Columns_In_Numerics(df):\n",
    "    # Convertir columnas booleanas a numéricas (0 y 1).\n",
    "    for Column in df.columns:\n",
    "        if df[Column].dtype == 'bool':\n",
    "            df[Column] = df[Column].astype(int)\n",
    "    \n",
    "    return df\n",
    "\n",
    "df = Convert_Object_Columns_In_Numerics(df)\n"
   ]
  },
  {
   "cell_type": "code",
   "execution_count": 10,
   "metadata": {},
   "outputs": [],
   "source": [
    "\n",
    "# Redefinir las variables independientes.\n",
    "Variables_Independientes = [Column for Column in df.columns if Column not in Variables_Dependientes]\n",
    "Variables_Independientes.remove('genero_Others')\n",
    "Variables_Independientes.remove('genero_masculino')\n",
    "Variables_Independientes.remove('voto_2019_Others')\n",
    "Variables_Independientes.remove('voto_2019_no_vote')\n",
    "Variables_Independientes.remove('voto_2019_Nicolás_Del_Caño')\n"
   ]
  },
  {
   "cell_type": "code",
   "execution_count": 11,
   "metadata": {},
   "outputs": [],
   "source": [
    "\n",
    "# Escalar variables independientes.\n",
    "Scaler = StandardScaler()\n",
    "df[Variables_Independientes] = Scaler.fit_transform(df[Variables_Independientes])"
   ]
  },
  {
   "cell_type": "code",
   "execution_count": 12,
   "metadata": {},
   "outputs": [
    {
     "name": "stdout",
     "output_type": "stream",
     "text": [
      "----------------------------------------------------------------\n",
      "Variable dependiente: cercania_Massa.\n",
      "----------------------------------------------------------------\n"
     ]
    },
    {
     "ename": "NameError",
     "evalue": "name 'Lmer' is not defined",
     "output_type": "error",
     "traceback": [
      "\u001b[1;31m---------------------------------------------------------------------------\u001b[0m",
      "\u001b[1;31mNameError\u001b[0m                                 Traceback (most recent call last)",
      "Cell \u001b[1;32mIn[12], line 11\u001b[0m\n\u001b[0;32m      8\u001b[0m Formula \u001b[38;5;241m=\u001b[39m \u001b[38;5;124mf\u001b[39m\u001b[38;5;124m'\u001b[39m\u001b[38;5;132;01m{\u001b[39;00mVariable_Dependiente\u001b[38;5;132;01m}\u001b[39;00m\u001b[38;5;124m ~ \u001b[39m\u001b[38;5;124m'\u001b[39m \u001b[38;5;241m+\u001b[39m \u001b[38;5;124m'\u001b[39m\u001b[38;5;124m + \u001b[39m\u001b[38;5;124m'\u001b[39m\u001b[38;5;241m.\u001b[39mjoin(Variables_Independientes) \u001b[38;5;241m+\u001b[39m \u001b[38;5;124m'\u001b[39m\u001b[38;5;124m + (1|grupo)\u001b[39m\u001b[38;5;124m'\u001b[39m  \u001b[38;5;66;03m# Reemplaza 'grupo' con la variable de agrupación.\u001b[39;00m\n\u001b[0;32m     10\u001b[0m \u001b[38;5;66;03m# Ajustar el modelo de regresión de efectos aleatorios\u001b[39;00m\n\u001b[1;32m---> 11\u001b[0m Modelo_Efectos_Aleatorios \u001b[38;5;241m=\u001b[39m \u001b[43mLmer\u001b[49m(Formula, data\u001b[38;5;241m=\u001b[39mdf)\n\u001b[0;32m     13\u001b[0m \u001b[38;5;66;03m# Resumen del modelo\u001b[39;00m\n\u001b[0;32m     14\u001b[0m \u001b[38;5;28mprint\u001b[39m(Modelo_Efectos_Aleatorios\u001b[38;5;241m.\u001b[39mfit())\n",
      "\u001b[1;31mNameError\u001b[0m: name 'Lmer' is not defined"
     ]
    }
   ],
   "source": [
    "\n",
    "# Ajustar el modelo de regresión de efectos aleatorios\n",
    "for Variable_Dependiente in Variables_Dependientes:\n",
    "    print('----------------------------------------------------------------')\n",
    "    print(f'Variable dependiente: {Variable_Dependiente}.')\n",
    "    print('----------------------------------------------------------------')\n",
    "\n",
    "    # Definir la fórmula del modelo\n",
    "    Formula = f'{Variable_Dependiente} ~ ' + ' + '.join(Variables_Independientes) + ' + (1|grupo)'  # Reemplaza 'grupo' con la variable de agrupación.\n",
    "\n",
    "    # Ajustar el modelo de regresión de efectos aleatorios\n",
    "    Modelo_Efectos_Aleatorios = Lmer(Formula, data=df)\n",
    "    \n",
    "    # Resumen del modelo\n",
    "    print(Modelo_Efectos_Aleatorios.fit())\n"
   ]
  }
 ],
 "metadata": {
  "kernelspec": {
   "display_name": "Python 3",
   "language": "python",
   "name": "python3"
  },
  "language_info": {
   "codemirror_mode": {
    "name": "ipython",
    "version": 3
   },
   "file_extension": ".py",
   "mimetype": "text/x-python",
   "name": "python",
   "nbconvert_exporter": "python",
   "pygments_lexer": "ipython3",
   "version": "3.12.6"
  }
 },
 "nbformat": 4,
 "nbformat_minor": 2
}
