{
 "cells": [
  {
   "cell_type": "markdown",
   "metadata": {},
   "source": [
    "Se importan las bibliotecas necesarias para el análisis de datos, manipulación de datos, y creación de modelos estadísticos."
   ]
  },
  {
   "cell_type": "code",
   "execution_count": 37,
   "metadata": {},
   "outputs": [],
   "source": [
    "import pandas as pd\n",
    "import numpy as np\n",
    "from sklearn.model_selection import train_test_split\n",
    "from statsmodels.miscmodels.ordinal_model import OrderedModel\n",
    "import statsmodels.api as sm\n",
    "from scipy.stats import chi2\n",
    "from sklearn.preprocessing import LabelEncoder\n",
    "import statsmodels.api as sm"
   ]
  },
  {
   "cell_type": "markdown",
   "metadata": {},
   "source": [
    "Se carga el archivo de Excel en un DataFrame de pandas."
   ]
  },
  {
   "cell_type": "code",
   "execution_count": 38,
   "metadata": {},
   "outputs": [],
   "source": [
    "df = pd.read_excel('Databases/1. Generales - Original.xlsx')"
   ]
  },
  {
   "cell_type": "markdown",
   "metadata": {},
   "source": [
    "Se renombra una columna para evitar problemas con el nombre."
   ]
  },
  {
   "cell_type": "code",
   "execution_count": 39,
   "metadata": {},
   "outputs": [],
   "source": [
    "df = df.rename(columns={'autopercep_izq-der': 'autopercep_izq_der'})"
   ]
  },
  {
   "cell_type": "markdown",
   "metadata": {},
   "source": [
    "Se definen las variables dependientes (la variable que se quiere predecir) y las variables independientes (las que influyen en la dependiente). Al ser un modelo ordinal, la variable dependiente debe ser ordinal, o sea, debe tener categorías que pueden ser ordenadas jerárquicamente, como calificaciones (por ejemplo, \"mala\", \"regular\", \"buena\") o niveles de satisfacción (por ejemplo, \"insatisfecho\", \"neutral\", \"satisfecho\") "
   ]
  },
  {
   "cell_type": "code",
   "execution_count": 40,
   "metadata": {},
   "outputs": [],
   "source": [
    "# Variables a explicar.\n",
    "Variables_Dependientes = ['cercania_Massa', \n",
    "                          #'cercania_Milei', \n",
    "                          #'cercania_Bregman', \n",
    "                          #'cercania_Bullrich', \n",
    "                          #'cercania_Schiaretti'\n",
    "                          ]\n",
    "\n",
    "# Variables que influyen en las otras.\n",
    "Variables_Todas = [\n",
    "                            # 'genero',\n",
    "                            # 'edad',\n",
    "                            # 'nacionalidad',\n",
    "                            # 'provincia',\n",
    "                            'e_social',\n",
    "                            # 'niv_educativo',\n",
    "                            'voto_2019',\n",
    "                            # 'voto_PASO_2023',\n",
    "                            'candidato_PASO_2023',\n",
    "                            # 'autopercep_izq_der',\n",
    "                            # 'autopercep_conpro',\n",
    "                            # 'autopercep_perantiper',\n",
    "                            'indice_positividad',\n",
    "                            'massa_ip_izqder',\n",
    "                            'massa_ip_conpro',\n",
    "                            # 'bullrich_ip_izqder',\n",
    "                            # 'bullrich_ip_conpro',\n",
    "                            # 'schiaretti_ip_izqder',\n",
    "                            # 'schiaretti_ip_conpro',\n",
    "                            # 'milei_ip_izqder',\n",
    "                            # 'milei_ip_conpro',\n",
    "                            # 'bregman_ip_izqder',\n",
    "                            # 'bregman_ip_conpro',\n",
    "                            # 'indice_progresismo',\n",
    "                            # 'indice_conservadurismo'\n",
    "                            ]"
   ]
  },
  {
   "cell_type": "markdown",
   "metadata": {},
   "source": [
    "Se crea una lista de variables que se utilizarán para el análisis de un candidato específico (Massa)."
   ]
  },
  {
   "cell_type": "code",
   "execution_count": 41,
   "metadata": {},
   "outputs": [],
   "source": [
    "Variables_Massa = [\n",
    "    'voto_2019',\n",
    "    'autopercep_perantiper',\n",
    "    'massa_ip_conpro',\n",
    "    'indice_conservadurismo',\n",
    "    'massa_ip_izqder',\n",
    "    'edad',\n",
    "    'autopercep_conpro',\n",
    "    'indice_progresismo',\n",
    "    'autopercep_izq_der',\n",
    "    'indice_positividad',\n",
    "    'candidato_PASO_2023',\n",
    "    'schiaretti_ip_conpro',\n",
    "    'schiaretti_ip_izqder'\n",
    "]"
   ]
  },
  {
   "cell_type": "code",
   "execution_count": 42,
   "metadata": {},
   "outputs": [],
   "source": [
    "Variables_Independientes = Variables_Massa"
   ]
  },
  {
   "cell_type": "markdown",
   "metadata": {},
   "source": [
    "Se asignan las variables independientes a X y la variable dependiente a y."
   ]
  },
  {
   "cell_type": "code",
   "execution_count": 43,
   "metadata": {},
   "outputs": [],
   "source": [
    "X = df[Variables_Independientes]\n",
    "y = df[Variables_Dependientes]"
   ]
  },
  {
   "cell_type": "markdown",
   "metadata": {},
   "source": [
    "Se convierte cualquier variable categórica en variables numéricas usando LabelEncoder. Esto es necesario porque muchos modelos estadísticos requieren entradas numéricas."
   ]
  },
  {
   "cell_type": "code",
   "execution_count": 44,
   "metadata": {},
   "outputs": [
    {
     "name": "stderr",
     "output_type": "stream",
     "text": [
      "C:\\Users\\tomas\\AppData\\Local\\Temp\\ipykernel_14012\\3576202961.py:4: SettingWithCopyWarning: \n",
      "A value is trying to be set on a copy of a slice from a DataFrame.\n",
      "Try using .loc[row_indexer,col_indexer] = value instead\n",
      "\n",
      "See the caveats in the documentation: https://pandas.pydata.org/pandas-docs/stable/user_guide/indexing.html#returning-a-view-versus-a-copy\n",
      "  X[Column] = LabelEncoder().fit_transform(X[Column])\n",
      "C:\\Users\\tomas\\AppData\\Local\\Temp\\ipykernel_14012\\3576202961.py:4: SettingWithCopyWarning: \n",
      "A value is trying to be set on a copy of a slice from a DataFrame.\n",
      "Try using .loc[row_indexer,col_indexer] = value instead\n",
      "\n",
      "See the caveats in the documentation: https://pandas.pydata.org/pandas-docs/stable/user_guide/indexing.html#returning-a-view-versus-a-copy\n",
      "  X[Column] = LabelEncoder().fit_transform(X[Column])\n"
     ]
    }
   ],
   "source": [
    "# Convert categorical independent variables to numerical using LabelEncoder.\n",
    "for Column in Variables_Independientes:\n",
    "    if X[Column].dtype == 'object':\n",
    "        X[Column] = LabelEncoder().fit_transform(X[Column])"
   ]
  },
  {
   "cell_type": "markdown",
   "metadata": {},
   "source": [
    "Los datos se dividen en un conjunto de entrenamiento (80%) y un conjunto de prueba (20%) para poder evaluar el modelo posteriormente."
   ]
  },
  {
   "cell_type": "code",
   "execution_count": 45,
   "metadata": {},
   "outputs": [],
   "source": [
    "# Split the data into training and testing sets.\n",
    "X_Train, X_Test, Y_Train, Y_Test = train_test_split(X, y, test_size=0.2, random_state=42)"
   ]
  },
  {
   "cell_type": "markdown",
   "metadata": {},
   "source": [
    "Se ajusta un modelo de regresión logística ordinal a los datos de entrenamiento. Esto es apropiado ya que la variable dependiente es ordinal."
   ]
  },
  {
   "cell_type": "code",
   "execution_count": 46,
   "metadata": {},
   "outputs": [
    {
     "name": "stderr",
     "output_type": "stream",
     "text": [
      "C:\\Users\\tomas\\AppData\\Roaming\\Python\\Python312\\site-packages\\statsmodels\\base\\optimizer.py:737: RuntimeWarning: Maximum number of iterations has been exceeded.\n",
      "  retvals = optimize.fmin(f, start_params, args=fargs, xtol=xtol,\n",
      "C:\\Users\\tomas\\AppData\\Roaming\\Python\\Python312\\site-packages\\statsmodels\\base\\model.py:607: ConvergenceWarning: Maximum Likelihood optimization failed to converge. Check mle_retvals\n",
      "  warnings.warn(\"Maximum Likelihood optimization failed to \"\n"
     ]
    }
   ],
   "source": [
    "# Ajustar el modelo de regresión logística ordinal sin añadir la constante manualmente.\n",
    "Ordinal_Model = OrderedModel(Y_Train, X_Train, distr='logit')\n",
    "Ordinal_Result = Ordinal_Model.fit()"
   ]
  },
  {
   "cell_type": "markdown",
   "metadata": {},
   "source": [
    "Se imprime un resumen del modelo ajustado para revisar los coeficientes y la significancia estadística."
   ]
  },
  {
   "cell_type": "code",
   "execution_count": 47,
   "metadata": {},
   "outputs": [
    {
     "name": "stdout",
     "output_type": "stream",
     "text": [
      "                             OrderedModel Results                             \n",
      "==============================================================================\n",
      "Dep. Variable:         cercania_Massa   Log-Likelihood:                -2892.7\n",
      "Model:                   OrderedModel   AIC:                             5819.\n",
      "Method:            Maximum Likelihood   BIC:                             5917.\n",
      "Date:                Mon, 21 Oct 2024                                         \n",
      "Time:                        12:32:03                                         \n",
      "No. Observations:                2271                                         \n",
      "Df Residuals:                    2254                                         \n",
      "Df Model:                          13                                         \n",
      "==========================================================================================\n",
      "                             coef    std err          z      P>|z|      [0.025      0.975]\n",
      "------------------------------------------------------------------------------------------\n",
      "voto_2019                 -0.1931      0.020     -9.882      0.000      -0.231      -0.155\n",
      "autopercep_perantiper     -0.3699      0.022    -16.814      0.000      -0.413      -0.327\n",
      "massa_ip_conpro            0.0977      0.024      4.044      0.000       0.050       0.145\n",
      "indice_conservadurismo    -0.1300      0.105     -1.236      0.217      -0.336       0.076\n",
      "massa_ip_izqder            0.0167      0.025      0.676      0.499      -0.032       0.065\n",
      "edad                      -0.0247      0.004     -5.755      0.000      -0.033      -0.016\n",
      "autopercep_conpro          0.1650      0.022      7.367      0.000       0.121       0.209\n",
      "indice_progresismo        -0.0768      0.082     -0.935      0.350      -0.238       0.084\n",
      "autopercep_izq_der         0.1508      0.030      5.082      0.000       0.093       0.209\n",
      "indice_positividad         0.0334      0.014      2.353      0.019       0.006       0.061\n",
      "candidato_PASO_2023        0.1352      0.008     17.790      0.000       0.120       0.150\n",
      "schiaretti_ip_conpro       0.0542      0.024      2.276      0.023       0.008       0.101\n",
      "schiaretti_ip_izqder       0.0605      0.028      2.192      0.028       0.006       0.115\n",
      "1/2                        0.0869      0.708      0.123      0.902      -1.301       1.475\n",
      "2/3                       -0.3770      0.062     -6.061      0.000      -0.499      -0.255\n",
      "3/4                        0.5342      0.037     14.540      0.000       0.462       0.606\n",
      "4/5                        0.8337      0.036     22.999      0.000       0.763       0.905\n",
      "==========================================================================================\n"
     ]
    }
   ],
   "source": [
    "# Resumen del modelo ajustado para verificar los coeficientes de los términos.\n",
    "print(Ordinal_Result.summary())"
   ]
  },
  {
   "cell_type": "markdown",
   "metadata": {},
   "source": [
    "Se realizan predicciones sobre el conjunto de prueba utilizando el modelo ajustado."
   ]
  },
  {
   "cell_type": "code",
   "execution_count": 48,
   "metadata": {},
   "outputs": [],
   "source": [
    "# Realizar predicciones en el set de prueba.\n",
    "Predictions = Ordinal_Result.predict(X_Test)"
   ]
  },
  {
   "cell_type": "markdown",
   "metadata": {},
   "source": [
    "__1. Verificar la linealidad del logit.__\n",
    "\n",
    "----\n",
    "\n",
    "Para verificar la linealidad entre las variables independientes y el logit, se pueden agregar términos cuadráticos y observar si estos son significativos. Verificá si el término cuadrático (edad_sq) es significativo (p-valor < 0.05). Si es significativo, puede indicar que la relación no es lineal."
   ]
  },
  {
   "cell_type": "code",
   "execution_count": 49,
   "metadata": {},
   "outputs": [],
   "source": [
    "# # Verificar la linealidad del logit para cada variable independiente.\n",
    "# for Variable in Variables_Independientes:\n",
    "\n",
    "#     # Agregar el término cuadrático.\n",
    "#     X_Train[f'{Variable}_sq'] = X_Train[Variable] ** 2  \n",
    "\n",
    "#     # Ajustar el modelo ordinal con el término cuadrático.\n",
    "#     Ordinal_Model = OrderedModel(Y_Train, X_Train[[Variable, f'{Variable}_sq']], distr='logit')\n",
    "#     Ordinal_Result = Ordinal_Model.fit(disp=0)  # 'disp=0' oculta la salida durante el ajuste.\n",
    "\n",
    "#     # Extraer el p-valor del término cuadrático.\n",
    "#     p_value = Ordinal_Result.pvalues[f'{Variable}_sq']\n",
    "\n",
    "#     # Imprimir solo el p-valor.\n",
    "#     print(f\"P-value for {Variable} (quadratic term): {p_value:.4f}\")  # Format p-value to 4 decimal places."
   ]
  },
  {
   "cell_type": "markdown",
   "metadata": {},
   "source": [
    "__2. Verificar la proporcionalidad de las odds.__\n",
    "\n",
    "-----\n",
    "\n",
    "Se puede usar el test de Brant o el test de proporcionalidad de odds. El test de Brant evalúa si las pendientes son constantes entre las categorías de la variable dependiente. Por lo tanto, se necesita ajustar un modelo para cada nivel de la variable dependiente y comparar los coeficientes entre modelos."
   ]
  },
  {
   "cell_type": "code",
   "execution_count": 53,
   "metadata": {},
   "outputs": [],
   "source": [
    "def Brant_Test(Ordinal_Model_Result: sm.regression.linear_model.RegressionResultsWrapper, \n",
    "               Y_Train: pd.Series, X_Train: pd.DataFrame) -> pd.DataFrame:\n",
    "    \n",
    "    \"\"\"\n",
    "    Performs the Brant test for proportional odds assumption.\n",
    "    \n",
    "    Parameters:\n",
    "    Ordinal_Model_Result (sm.regression.linear_model.RegressionResultsWrapper): The fitted ordinal model result.\n",
    "    Y_Train (pd.Series): The dependent ordinal variable.\n",
    "    X_Train (pd.DataFrame): The independent variables.\n",
    "    \n",
    "    Returns:\n",
    "    pd.DataFrame: A DataFrame with chi-square statistics and p-values for each independent variable.\n",
    "    \n",
    "    \"\"\"\n",
    "    \n",
    "    # Ensure Y_Train is a Series if it's a DataFrame.\n",
    "    if isinstance(Y_Train, pd.DataFrame):\n",
    "        Y_Train = Y_Train.iloc[:, 0]  # Convert Y_Train to a Series.\n",
    "    \n",
    "    # Get the number of categories in the dependent variable.\n",
    "    Categories = np.sort(Y_Train.unique())\n",
    "    K_Categories = len(Categories)\n",
    "    \n",
    "    # Create an empty DataFrame to store the results.\n",
    "    Results = pd.DataFrame(columns=['Variable', 'Chi2', 'P_Value'])\n",
    "    \n",
    "    # For each variable in the model, compare the coefficients across categories.\n",
    "    for Variable in X_Train.columns:\n",
    "        Chi2_Stat = 0\n",
    "        Df = 0\n",
    "        \n",
    "        # Fit separate binary models for each threshold in the ordinal outcome.\n",
    "        for Index in range(K_Categories - 1):\n",
    "            Y_Binary = (Y_Train > Categories[Index]).astype(int)\n",
    "            Binary_Model = sm.Logit(Y_Binary, X_Train[Variable])\n",
    "            Binary_Result = Binary_Model.fit(disp=0)\n",
    "            \n",
    "            # Check if the variable exists in both models.\n",
    "            if Variable in Ordinal_Model_Result.params.index and Variable in Binary_Result.params.index:\n",
    "                # Extract coefficients for the current variable.\n",
    "                Beta_Diff = Ordinal_Model_Result.params[Variable] - Binary_Result.params[Variable]\n",
    "                Chi2_Stat += Beta_Diff ** 2 / Ordinal_Model_Result.bse[Variable] ** 2\n",
    "                Df += 1\n",
    "            else:\n",
    "                print(f\"Warning: Variable '{Variable}' not found in one of the models.\")\n",
    "        \n",
    "        # Calculate the p-value from the chi-square distribution.\n",
    "        P_Value = chi2.sf(Chi2_Stat, Df)\n",
    "        \n",
    "        # Append the results to the DataFrame using pd.concat.\n",
    "        New_Row = pd.DataFrame({'Variable': [Variable], 'Chi2': [Chi2_Stat], 'P_Value': [P_Value]})\n",
    "        Results = pd.concat([Results, New_Row], ignore_index=True)\n",
    "    \n",
    "    return Results"
   ]
  },
  {
   "cell_type": "markdown",
   "metadata": {},
   "source": [
    "La hipótesis nula del test de Brant es que los coeficientes son proporcionales para todas las categorías de la variable dependiente. Un p-valor bajo (menor que 0.05) indica que la hipótesis nula debe rechazarse, lo que significa que la suposición de odds proporcionales no se sostiene para esa variable."
   ]
  },
  {
   "cell_type": "code",
   "execution_count": 55,
   "metadata": {},
   "outputs": [
    {
     "name": "stdout",
     "output_type": "stream",
     "text": [
      "                  Variable         Chi2        P_Value\n",
      "0                voto_2019  1592.797717   0.000000e+00\n",
      "1    autopercep_perantiper   650.307909  1.999192e-139\n",
      "2          massa_ip_conpro   342.696398   6.619563e-73\n",
      "3   indice_conservadurismo    26.334211   2.709442e-05\n",
      "4          massa_ip_izqder   339.724171   2.900543e-72\n",
      "5                     edad   208.304729   6.152079e-44\n",
      "6        autopercep_conpro   551.564607  4.692515e-118\n",
      "7       indice_progresismo   171.742620   4.420184e-36\n",
      "8       autopercep_izq_der   727.485338  3.895405e-156\n",
      "9       indice_positividad   159.029853   2.360383e-33\n",
      "10     candidato_PASO_2023  2250.339751   0.000000e+00\n",
      "11    schiaretti_ip_conpro   667.811331  3.247390e-143\n",
      "12    schiaretti_ip_izqder   203.573715   6.404231e-43\n"
     ]
    },
    {
     "name": "stderr",
     "output_type": "stream",
     "text": [
      "C:\\Users\\tomas\\AppData\\Local\\Temp\\ipykernel_14012\\3710477143.py:53: FutureWarning: The behavior of DataFrame concatenation with empty or all-NA entries is deprecated. In a future version, this will no longer exclude empty or all-NA columns when determining the result dtypes. To retain the old behavior, exclude the relevant entries before the concat operation.\n",
      "  Results = pd.concat([Results, New_Row], ignore_index=True)\n"
     ]
    }
   ],
   "source": [
    "Brant_Results = Brant_Test(Ordinal_Result, Y_Train, X_Train)\n",
    "print(Brant_Results)"
   ]
  },
  {
   "cell_type": "markdown",
   "metadata": {},
   "source": [
    "__3. Independencia de las observaciones.__\n",
    "\n",
    "------\n",
    "\n",
    "Para verificar la independencia de las observaciones, se puede revisar si hay duplicados o agrupaciones en los datos. En el contexto de encuestas, esto suele ser asumido, pero es bueno verificar:"
   ]
  },
  {
   "cell_type": "code",
   "execution_count": 143,
   "metadata": {},
   "outputs": [
    {
     "name": "stdout",
     "output_type": "stream",
     "text": [
      "0\n"
     ]
    }
   ],
   "source": [
    "# Revisar duplicados en el DataFrame\n",
    "print(df.duplicated().sum())"
   ]
  }
 ],
 "metadata": {
  "kernelspec": {
   "display_name": "Python 3",
   "language": "python",
   "name": "python3"
  },
  "language_info": {
   "codemirror_mode": {
    "name": "ipython",
    "version": 3
   },
   "file_extension": ".py",
   "mimetype": "text/x-python",
   "name": "python",
   "nbconvert_exporter": "python",
   "pygments_lexer": "ipython3",
   "version": "3.12.6"
  }
 },
 "nbformat": 4,
 "nbformat_minor": 2
}
