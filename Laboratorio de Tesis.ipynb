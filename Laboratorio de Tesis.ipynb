{
 "cells": [
  {
   "cell_type": "code",
   "execution_count": 1,
   "metadata": {},
   "outputs": [],
   "source": [
    "import pandas as pd\n",
    "import numpy as np\n",
    "import seaborn as sns\n",
    "import matplotlib.pyplot as plt\n",
    "from collections import Counter\n",
    "\n",
    "import sys\n",
    "sys.path.append('c:/Users/tomas/Documents/Programación/Github/Patricionog/Modulio')\n",
    "import Foragio as fg\n",
    "import Excelio as ex\n",
    "import Framio as fr\n",
    "import Stringio as st\n",
    "import Listio as ls\n",
    "import Graphio as gr"
   ]
  },
  {
   "cell_type": "code",
   "execution_count": 2,
   "metadata": {},
   "outputs": [],
   "source": [
    "# Pathways en diferentes computadoras dónde están las databases.\n",
    "Paths = {'PC_Depto': 'J:/My Drive/Experimento/Plantillas finales/',\n",
    "         'Notebook_Nico': '',\n",
    "         'PC_Neque': '',\n",
    "         'PC_Sol': '',\n",
    "         'PC_Forraje': ''}"
   ]
  },
  {
   "cell_type": "code",
   "execution_count": 3,
   "metadata": {},
   "outputs": [],
   "source": [
    "# Definir computadora en que se va a trabajar.\n",
    "PC = 'PC_Depto'"
   ]
  },
  {
   "cell_type": "code",
   "execution_count": 4,
   "metadata": {},
   "outputs": [],
   "source": [
    "# Definir la base en que se va a operar.\n",
    "Base = '1. Ballotage - Original.xlsx'"
   ]
  },
  {
   "cell_type": "code",
   "execution_count": 5,
   "metadata": {},
   "outputs": [],
   "source": [
    "# Crear dataframe.\n",
    "df = pd.read_excel(Paths[PC] + Base)"
   ]
  },
  {
   "cell_type": "code",
   "execution_count": 6,
   "metadata": {},
   "outputs": [],
   "source": [
    "# Columnas importantes del dataframe.\n",
    "Columnas = [\n",
    " 'genero',\n",
    " 'edad',\n",
    " 'nacionalidad',\n",
    " 'provincia',\n",
    " 'e_social',\n",
    " 'niv_educativo',\n",
    " 'f_ingreso',\n",
    " 'inmueble_res',\n",
    " 'voto_2019',\n",
    " 'voto_PASO_2023',\n",
    " 'candidato_PASO_2023',\n",
    " 'votara_2023',\n",
    " 'afiliacion_pol',\n",
    " 'autopercep_izq-der',\n",
    " 'autopercep_con-pro',\n",
    " 'autopercep_per-antiper',\n",
    " 'cercania_Massa',\n",
    " 'cercania_Milei',\n",
    "#  'cercania_Bregman',\n",
    "#  'cercania_Bullrich',\n",
    "#  'cercania_Schiaretti',\n",
    " 'massa_ip_izqder',\n",
    " 'massa_ip_conpro',\n",
    " 'massa_ip_rt',\n",
    " 'milei_ip_izqder',\n",
    " 'milei_ip_conpro',\n",
    " 'milei_ip_rt',\n",
    " 'indice_positividad',\n",
    " 'indice_progresismo',\n",
    " 'indice_progresismo_tiempo',\n",
    " 'indice_conservadurismo',\n",
    " 'indice_conservadurismo_tiempo',\n",
    " 'cambio_op_con_der',\n",
    " 'cambio_op_con_der_tiempo',\n",
    " 'cambio_op_con_izq',\n",
    " 'cambio_op_con_izq_tiempo',\n",
    " 'cambio_op_pro_der',\n",
    " 'cambio_op_pro_der_tiempo',\n",
    " 'cambio_op_pro_izq',\n",
    " 'cambio_op_pro_izq_tiempo',]"
   ]
  },
  {
   "cell_type": "code",
   "execution_count": 7,
   "metadata": {},
   "outputs": [],
   "source": [
    "# Reemplazos en los nombres de las variables.\n",
    "Reemplazos_Columnas = [['Ciudad_Autonoma_De_Buenos_Aires', 'E_Social', 'Inmueble_Res', 'Niv_', 'F_Ingreso'],\n",
    "                       ['CABA', 'Estrato_Social', 'Inmueble', 'Nivel_', 'Fuente_Ingreso']]"
   ]
  },
  {
   "cell_type": "code",
   "execution_count": 8,
   "metadata": {},
   "outputs": [],
   "source": [
    "# Reemplazos en datos.\n",
    "Reemplazos = [['Ciudad Autónoma De Buenos Aires'],\n",
    "              ['CABA']]"
   ]
  },
  {
   "cell_type": "code",
   "execution_count": 9,
   "metadata": {},
   "outputs": [],
   "source": [
    "# Procesar DataFrame.\n",
    "df = fr.Process_DataFrame(df, Columnas, Fill_NaN = 0, Dummies = False,\n",
    "                          String_Style = 'Title', Replace = Reemplazos,\n",
    "                          Case_Name_Columns = 'Pascal Snake Case', Separator_In_Name_Columns = '_',\n",
    "                          Remove_Accents_In_Name_Columns = True, Replace_Enie_In_Name_Columns = True,\n",
    "                          Replace_In_Name_Columns = Reemplazos_Columnas)"
   ]
  },
  {
   "cell_type": "code",
   "execution_count": 10,
   "metadata": {},
   "outputs": [],
   "source": [
    "# Barplots.\n",
    "\n",
    "Path = 'A:/-/'"
   ]
  }
 ],
 "metadata": {
  "kernelspec": {
   "display_name": "Python 3",
   "language": "python",
   "name": "python3"
  },
  "language_info": {
   "codemirror_mode": {
    "name": "ipython",
    "version": 3
   },
   "file_extension": ".py",
   "mimetype": "text/x-python",
   "name": "python",
   "nbconvert_exporter": "python",
   "pygments_lexer": "ipython3",
   "version": "3.11.9"
  }
 },
 "nbformat": 4,
 "nbformat_minor": 2
}
