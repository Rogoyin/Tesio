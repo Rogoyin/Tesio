{
 "cells": [
  {
   "cell_type": "markdown",
   "id": "bfdf1b3a-c484-40fc-9939-62e59d81a636",
   "metadata": {},
   "source": [
    "Técnica estadística utilizada para explorar las relaciones entre dos conjuntos de variables. CCA se aplica cuando tenés dos conjuntos de variables, uno de variables respuesta (o dependientes) y otro de variables predictoras (o independientes)."
   ]
  },
  {
   "cell_type": "markdown",
   "id": "2861c571-6ebd-4e8d-adc1-d8ad136a71ad",
   "metadata": {},
   "source": [
    "### Supuestos\n",
    "\n",
    "Linealidad.\n",
    "Se asume que existe una relación lineal entre las variables en las dos matrices de datos. CCA busca combinaciones lineales de las variables en cada conjunto que maximicen la correlación entre los conjuntos.\n",
    "\n",
    "Normalidad multivariante. Aunque CCA no requiere estrictamente que los datos sean normalmente distribuidos, la normalidad multivariante facilita la interpretación de los resultados y el cálculo de los p-valores. La normalidad implica que cada conjunto de variables sigue una distribución normal conjunta.\n",
    "\n",
    "Homocedasticidad. \n",
    "Los datos deben tener varianzas constantes a lo largo de las observaciones. Es decir, no debe haber heterocedasticidad, que se refiere a la variabilidad desigual de los errores en diferentes niveles de las variables.\n",
    "\n",
    "Independencia.\n",
    "Las observaciones deben ser independientes entre sí. En otras palabras, el valor de una observación no debe influir en el valor de otra.\n",
    "\n",
    "Múltiple colinealidad.\n",
    "Aunque no es un supuesto en el sentido estricto, es importante que las variables dentro de cada conjunto no estén altamente correlacionadas entre sí, ya que esto puede afectar la estabilidad y la interpretabilidad de los componentes canónicos.\n",
    "\n",
    "Número de variables vs. número de observaciones.\n",
    "Requiere que el número de observaciones sea mayor que el número de variables en cada conjunto. Si tienes más variables que observaciones, el modelo puede ser inestable.\n",
    "\n",
    "Escalamiento y preprocesamiento.\n",
    "Las variables en los conjuntos de datos deben estar escaladas adecuadamente (por ejemplo, centradas en la media y estandarizadas) para que las correlaciones canónicas sean significativas."
   ]
  },
  {
   "cell_type": "markdown",
   "id": "65fb5312-02b2-4d49-b0f2-4e1b644dda33",
   "metadata": {
    "jp-MarkdownHeadingCollapsed": true
   },
   "source": [
    "### Componentes Clave\n",
    "\n",
    "El objetivo principal de CCA es encontrar combinaciones lineales de las variables en cada conjunto de modo que la correlación entre estas combinaciones sea máxima.\n",
    "\n",
    "Se utiliza como complemento a los modelos de regresión u otras técnicas predictivas. Mientras que los modelos de regresión se centran en predecir una variable de respuesta a partir de un conjunto de predictores, CCA busca entender cómo se relacionan dos conjuntos de variables de manera global.\n",
    "\n",
    "CCA proporciona coeficientes (llamados coeficientes de correlación canónica) que indican la fuerza y dirección de las relaciones entre los dos conjuntos de variables. Estos coeficientes ayudan a entender qué variables de un conjunto están asociadas con qué variables del otro conjunto."
   ]
  },
  {
   "cell_type": "markdown",
   "id": "bc282d13-deb6-4a65-9078-d31dcab73dcc",
   "metadata": {},
   "source": [
    "### Armado del dataset."
   ]
  },
  {
   "cell_type": "code",
   "execution_count": 1,
   "id": "83a01b39-499f-4e52-ae35-a7aa82ed1941",
   "metadata": {},
   "outputs": [],
   "source": [
    "# Carga de librerías.\n",
    "\n",
    "import pandas as pd\n",
    "import numpy as np\n",
    "import statsmodels.api as sm\n",
    "from statsmodels.formula.api import mixedlm\n",
    "import matplotlib.pyplot as plt\n",
    "import seaborn as sns"
   ]
  },
  {
   "attachments": {
    "280e153a-5713-4609-9015-ad8bfd0daffc.png": {
     "image/png": "[encoded data removed]"
    }
   },
   "cell_type": "markdown",
   "id": "1db722e1-98db-4c16-a505-b57ea4e29830",
   "metadata": {},
   "source": [
    "Cargamos el dataset con las variables respuesta en cada columna propia. \n",
    "\n",
    "Ejemplo:\n",
    "\n",
    "![image.png](attachment:280e153a-5713-4609-9015-ad8bfd0daffc.png)\n",
    "\n",
    "Las variables respuesta son Rendimiento_Matematicas y Rendimiento_Ciencias."
   ]
  },
  {
   "cell_type": "code",
   "execution_count": 2,
   "id": "60bc0fe0-b1dc-44b7-9eee-67bcc6b27c3b",
   "metadata": {},
   "outputs": [],
   "source": [
    "# Carga del dataset.\n",
    "\n",
    "%run \"Base 1 - 1. Dataset para modelos.ipynb\""
   ]
  },
  {
   "attachments": {
    "c56be4f4-76fa-4498-ae0d-4c7768774c23.png": {
     "image/png": "[encoded data removed]"
    }
   },
   "cell_type": "markdown",
   "id": "efaf52b7-829d-4ed2-8982-e70caafc9070",
   "metadata": {},
   "source": [
    "En este programa se hace esto: pasar las variables respuesta a un formato largo.\n",
    "\n",
    "\n",
    "#### Acomodar dataset (por ahora es manual). \n",
    "Si tenemos dos variables respuesta, que son, por ejemplo, V1 y V2, se crea una columna nueva que se llama \"Variables\", y en este columna va a indicar si es V1 o V2. En otra columna, \"Valor\", va a ir el valor correspondiente de cada variable.\n",
    "\n",
    "\n",
    "Algo así:\n",
    "\n",
    "![image.png](attachment:c56be4f4-76fa-4498-ae0d-4c7768774c23.png)\n",
    "\n",
    "En este ejemplo, las variables respuesta son Rendimiento_Matemática y Rendimiento_Ciencias. Se pone en la columna \"Asignatura\" a cuál variable corresponde, y en \"Rendimiento\" se pone el valor original."
   ]
  },
  {
   "cell_type": "markdown",
   "id": "88da7bc1-a589-4d6b-99b2-d9cf46c24187",
   "metadata": {},
   "source": [
    "### Armamos el modelo.\n",
    "\n",
    "Definimos los efectos aleatorios, que son los que capturan la variabilidad específica de cada grupo o nivel de una variable categórica. En el caso del ejemplo, Sujeto es el grupo para los efectos aleatorios, lo que significa que esperamos que haya variabilidad en el rendimiento que sea específica de cada sujeto.\n",
    "\n",
    "Los efectos fijos son los efectos que estamos interesados en estimar, como las diferencias entre grupos o asignaturas."
   ]
  },
  {
   "cell_type": "markdown",
   "id": "4e6cbae0-408f-4056-8279-22e5addbe036",
   "metadata": {},
   "source": [
    "#### Definición de Variables Respuesta y Variables Explicatorias."
   ]
  },
  {
   "cell_type": "code",
   "execution_count": 3,
   "id": "bdf74886-34b6-4234-a5a7-d24826ad009f",
   "metadata": {},
   "outputs": [],
   "source": [
    "# Está en el programa anterior: 1. Dataset para modelos.ipynb\n",
    "# Si lo querés editar, editalo ahí."
   ]
  },
  {
   "cell_type": "markdown",
   "id": "31173f2b-103f-400a-a142-4904114b84e7",
   "metadata": {},
   "source": [
    "#### Chequeos."
   ]
  },
  {
   "cell_type": "markdown",
   "id": "286d3ea0-cd65-4bd5-a500-5226a6705345",
   "metadata": {},
   "source": [
    "1) Valores no nulos."
   ]
  },
  {
   "cell_type": "code",
   "execution_count": 4,
   "id": "afbe1c82-1fb9-4491-b6fd-c802cb9e1e83",
   "metadata": {},
   "outputs": [],
   "source": [
    "# Valores nulos en variables explicatorias.\n",
    "Nulos = df_Largo[Variables_Explicatorias].isnull().sum()\n",
    "\n",
    "# Filtrar las columnas que tienen valores nulos.\n",
    "Columnas_Con_Nulos = Nulos[Nulos > 0].index\n",
    "\n",
    "if len(Columnas_Con_Nulos) > 0:\n",
    "    print(\"Valores nulos por columna:\")\n",
    "    print(Nulos[Columnas_Con_Nulos])"
   ]
  },
  {
   "cell_type": "markdown",
   "id": "518a28e9-36a3-4e64-aa7c-6b5d09a6b2fd",
   "metadata": {},
   "source": [
    "2) Valores no numéricos."
   ]
  },
  {
   "cell_type": "code",
   "execution_count": 5,
   "id": "5a167e1a-7782-4942-93c5-7259620d1540",
   "metadata": {},
   "outputs": [],
   "source": [
    "# Valores no numéricos en cada columna.\n",
    "for i in Variables_Explicatorias:\n",
    "    if not pd.api.types.is_numeric_dtype(df_Largo[i]):\n",
    "        print(f\"La columna {i} no es numérica.\")"
   ]
  },
  {
   "cell_type": "markdown",
   "id": "7a41c163-47ac-44a4-9cf6-d92f1f1747e6",
   "metadata": {},
   "source": [
    "3. Por las dudas, cambiar a categóricas."
   ]
  },
  {
   "cell_type": "code",
   "execution_count": 6,
   "id": "9105c2a0-f4a4-48de-a3e2-183c34c4dab2",
   "metadata": {},
   "outputs": [],
   "source": [
    "# Convertir todas las variables explicatorias a numéricas.\n",
    "for i in Variables_Explicatorias:\n",
    "    df_Largo[i] = pd.to_numeric(df_Largo[i], errors='coerce')"
   ]
  },
  {
   "cell_type": "markdown",
   "id": "b3579d8d-7573-408d-8957-6d3dbe676071",
   "metadata": {},
   "source": [
    "4. Chequear que todas las columnas tengan la misma cantidad de filas."
   ]
  },
  {
   "cell_type": "code",
   "execution_count": 7,
   "id": "ebf7596a-0f68-4e09-8dd3-9fa0e7ba8e55",
   "metadata": {},
   "outputs": [],
   "source": [
    "for i in df_Largo.columns:\n",
    "    Numero_Filas_Columna = df_Largo[i].shape[0]\n",
    "    if Numero_Filas_Columna != df_Largo.shape[0]:\n",
    "        print(f\"La columna {i} tiene {Numero_Filas_Columna} filas, diferente de {df_Largo.shape[0]} filas del DataFrame.\")"
   ]
  },
  {
   "cell_type": "markdown",
   "id": "a9eea39f-e3e4-4c1b-a54e-2e791f9a65ae",
   "metadata": {},
   "source": [
    "5. Eliminación de columnas del df que pesan poco. Esto se hace a mano.\n",
    "\n",
    "6. Abajo, se redefinen las VR y VEs."
   ]
  },
  {
   "cell_type": "code",
   "execution_count": 8,
   "id": "a3e7c96d-31c4-45d3-b189-2612777c6e43",
   "metadata": {},
   "outputs": [],
   "source": [
    "# Eliminamos algunas columnas del df.\n",
    "\n",
    "Columnas_Eliminadas = [\n",
    "    \"e_social_Alto\",\n",
    "    \"e_social_Bajo\",\n",
    "    \"niv_educativo_Posgrado\",\n",
    "    \"niv_educativo_Primario\",\n",
    "    \"niv_educativo_Terciario\",\n",
    "    \"inmueble_res_Cedido\",\n",
    "    \"inmueble_res_Propio\",\n",
    "    \"voto_2019_DelCaño\",\n",
    "    \"candidato_PASO_2023_Bregman\",\n",
    "    \"candidato_PASO_2023_Bullrich\",\n",
    "    \"candidato_PASO_2023_Grabois\",\n",
    "    \"candidato_PASO_2023_Larreta\",\n",
    "    \"candidato_PASO_2023_Milei\",\n",
    "    \"candidato_PASO_2023_Reservado\",\n",
    "    \"candidato_PASO_2023_Schiaretti\",\n",
    "    \"edad\",\n",
    "#    'indice_progresismo',\n",
    "#    \"indice_conservadurismo\",\n",
    "    'autopercep_izqder',\n",
    "    'autopercep_perantiper',\n",
    "    \"cercania_Massa\",\n",
    "    \"cercania_Milei\",\n",
    "    \"cercania_Bregman\",\n",
    "   \"cercania_Bullrich\",\n",
    "    \"cercania_Schiaretti\",\n",
    "    \"milei_ip_conpro\",\n",
    "    \"milei_ip_rt\",\n",
    "    \"bullrich_ip_izqder\",\n",
    "    \"bullrich_ip_conpro\",\n",
    "    \"schiaretti_ip_izqder\",\n",
    "    \"schiaretti_ip_conpro\",\n",
    "    \"schiaretti_ip_rt\",\n",
    "    \"e_social_MedioAlto\",\n",
    "    \"e_social_MedioBajo\",\n",
    "    \"voto_2019_Fernandez\",\n",
    "    \"voto_2019_Macri\",\n",
    "    'indice_positividad',\n",
    "    'indice_progresismo_tiempo',\n",
    "    'indice_conservadurismo_tiempo',\n",
    "    'autopercep_conpro',\n",
    "     'massa_ip_izqder',\n",
    "     'massa_ip_conpro',\n",
    "     'massa_ip_rt',\n",
    "     'milei_ip_izqder',\n",
    "     'bregman_ip_izqder',\n",
    "     'bregman_ip_conpro',\n",
    "     'bregman_ip_rt',\n",
    "     'bullrich_ip_rt',\n",
    "     'genero_Femenino',\n",
    "     'genero_Masculino',\n",
    "     'genero_Otro',\n",
    "     'provincia_BsAs',\n",
    "     'provincia_CABA',\n",
    "     'provincia_Chaco',\n",
    "     'provincia_Chubut',\n",
    "     'provincia_Cordoba',\n",
    "     'provincia_EntreRios',\n",
    "     'provincia_Mendoza',\n",
    "     'provincia_Neuquen',\n",
    "     'provincia_Otro',\n",
    "     'provincia_RioNegro',\n",
    "     'provincia_SanLuis',\n",
    "     'provincia_SantaFe',\n",
    "     'provincia_Tucuman',\n",
    "     'e_social_Medio',\n",
    "     'niv_educativo_Secundario',\n",
    "     'niv_educativo_Universitario',\n",
    "     'f_ingreso_Beca',\n",
    "     'f_ingreso_EmpresaPropia',\n",
    "     'f_ingreso_Familia',\n",
    "     'f_ingreso_Otro',\n",
    "     'f_ingreso_Renta',\n",
    "     'f_ingreso_Trabajo',\n",
    "     'inmueble_res_Alquilo',\n",
    "     'inmueble_res_Otro',\n",
    "     'inmueble_res_Prestado',\n",
    "     'voto_2019_Blanco',\n",
    "     'voto_2019_Espert',\n",
    "     'voto_2019_GomezCenturion',\n",
    "     'voto_2019_Lavagna',\n",
    "     'voto_2019_NoVoto',\n",
    "     'voto_2019_Reservado',\n",
    "     'voto_PASO_2023_No',\n",
    "     'voto_PASO_2023_Otro',\n",
    "     'voto_PASO_2023_Si',\n",
    "     'candidato_PASO_2023_Blanco',\n",
    "     'candidato_PASO_2023_Inaplicable',\n",
    "     'candidato_PASO_2023_Massa',\n",
    "     'candidato_PASO_2023_Moreno',\n",
    "     'candidato_PASO_2023_Otro',\n",
    "     'votara_2023_Ignora',\n",
    "     'votara_2023_No',\n",
    "     'votara_2023_Si',\n",
    "     'afiliacion_pol_No',\n",
    "     'afiliacion_pol_Si']\n",
    "\n",
    "# Eliminar las columnas.\n",
    "df_Largo = df_Largo.drop(columns=Columnas_Eliminadas)"
   ]
  },
  {
   "cell_type": "code",
   "execution_count": 9,
   "id": "dde50758-c6bb-4f6a-94da-315da04d799d",
   "metadata": {},
   "outputs": [
    {
     "data": {
      "text/plain": [
       "['indice_progresismo',\n",
       " 'indice_conservadurismo',\n",
       " 'cambio_tiempo',\n",
       " 'tipo_item_Conservador',\n",
       " 'tipo_item_Progresista',\n",
       " 'tipo_candidato_Derecha',\n",
       " 'tipo_candidato_Izquierda']"
      ]
     },
     "execution_count": 9,
     "metadata": {},
     "output_type": "execute_result"
    }
   ],
   "source": [
    "# Grupos de variables.\n",
    "Variables_Respuesta = ['cambio_op' \n",
    "#                       ,'cambio_tiempo'\n",
    "#                       , 'tipo_candidato_Derecha'\n",
    "#                       , 'tipo_candidato_Izquierda'\n",
    "#                       , 'tipo_item_Conservador'\n",
    "#                       , 'tipo_item_Progresista'\n",
    "                      ]\n",
    "\n",
    "Variables_Explicatorias = [i for i in df_Largo.columns if i not in ['id', 'const'] + Variables_Respuesta]\n",
    "\n",
    "Variables_Explicatorias"
   ]
  },
  {
   "cell_type": "markdown",
   "id": "5cb3e826-777e-46af-8e6f-ec0e5badbb89",
   "metadata": {},
   "source": [
    "#### Modelo."
   ]
  },
  {
   "cell_type": "code",
   "execution_count": 10,
   "id": "7852f9ff-10f9-4c1c-a2b4-bffb6756641f",
   "metadata": {},
   "outputs": [],
   "source": [
    "from sklearn.datasets import load_iris\n",
    "from sklearn.cross_decomposition import CCA\n",
    "from sklearn.preprocessing import StandardScaler"
   ]
  },
  {
   "cell_type": "code",
   "execution_count": 11,
   "id": "c85d19a5-ca06-473a-b00c-8c24f3cd9af8",
   "metadata": {},
   "outputs": [],
   "source": [
    "# Inicializar el modelo de CCA.\n",
    "Modelo_CCA = CCA(n_components=1)  # Se puede ajustar el número de componentes según las necesidades\n",
    "\n",
    "# Convertir las listas con los nombres de las columnas en dfs para seleccionar las columnas correspondientes.\n",
    "df_VE = df_Largo[Variables_Explicatorias]\n",
    "df_VR = df_Largo[Variables_Respuesta]\n",
    "\n",
    "scaler = StandardScaler()\n",
    "\n",
    "# Transformar dfs.\n",
    "df_VE = scaler.fit_transform(df_VE)\n",
    "df_VR = scaler.fit_transform(df_VR) \n",
    "\n",
    "# Ajustar modelo.\n",
    "Modelo_CCA.fit(df_VE, df_VR)\n",
    "\n",
    "# Obtener las componentes canónicas.\n",
    "VE_CC, VR_CC = Modelo_CCA.transform(df_VE, df_VR)"
   ]
  },
  {
   "cell_type": "code",
   "execution_count": 12,
   "id": "cf75e61d-220c-4f48-8e20-0ef4ace774e9",
   "metadata": {},
   "outputs": [],
   "source": [
    "# En caso de 2 componentes. \n",
    "\n",
    "# Ver correlación de los dos pares canónicos.\n",
    "# Correlación_Pares_Canónicos = [np.corrcoef(VE_CC[:, i], VR_CC[:, i])[1][0] for i in range(2)]\n",
    "# plt.bar(['CC1', 'CC2'], Correlación_Pares_Canónicos, color='lightgrey', width = 0.5, edgecolor='k')"
   ]
  },
  {
   "cell_type": "code",
   "execution_count": 13,
   "id": "486cec09-b693-4723-ba93-d971192abacb",
   "metadata": {},
   "outputs": [
    {
     "data": {
      "image/png": "[encoded data removed]",
      "text/plain": [
       "<Figure size 640x480 with 1 Axes>"
      ]
     },
     "metadata": {},
     "output_type": "display_data"
    }
   ],
   "source": [
    "# En caso de 1 componente.\n",
    "\n",
    "# Ver la correlación del componente canónico.\n",
    "Correlacion_Canonica = np.corrcoef(VE_CC[:, 0], VR_CC[:, 0])[1][0]\n",
    "\n",
    "# Visualizar la correlación\n",
    "plt.bar(['CC1'], [Correlacion_Canonica], color='lightgrey', width=0.5, edgecolor='k')\n",
    "plt.title('Correlación entre componentes canónicos')\n",
    "plt.ylabel('Correlación')\n",
    "plt.show()"
   ]
  },
  {
   "cell_type": "markdown",
   "id": "7daac423-b62d-40c7-a87f-f0fc2b4f8298",
   "metadata": {},
   "source": [
    "Let’s see now which variables from both datasets influence their canonical variates the most. We do that by analyzing the loadings associated with each of our canonical variates."
   ]
  },
  {
   "cell_type": "code",
   "execution_count": 14,
   "id": "0e9c6893-40b7-464e-83eb-e0ae7f744203",
   "metadata": {},
   "outputs": [
    {
     "name": "stdout",
     "output_type": "stream",
     "text": [
      "Variable explicativa: indice_progresismo\n",
      "Carga: [0.13602576]\n",
      "Variable explicativa: indice_conservadurismo\n",
      "Carga: [0.02797981]\n",
      "Variable explicativa: cambio_tiempo\n",
      "Carga: [-0.02068397]\n",
      "Variable explicativa: tipo_item_Conservador\n",
      "Carga: [-0.76376287]\n",
      "Variable explicativa: tipo_item_Progresista\n",
      "Carga: [0.76376287]\n",
      "Variable explicativa: tipo_candidato_Derecha\n",
      "Carga: [-0.00789726]\n",
      "Variable explicativa: tipo_candidato_Izquierda\n",
      "Carga: [0.00789726]\n"
     ]
    }
   ],
   "source": [
    "Variables_Pesadas = []\n",
    "Componente1 = []\n",
    "Componente2 = []\n",
    "\n",
    "# Iterar sobre las cargas de las variables explicativas\n",
    "for i in range(0, len(Modelo_CCA.x_loadings_)):\n",
    "    # Obtener las cargas de la variable explicativa i\n",
    "    loadings_i = Modelo_CCA.x_loadings_[i]\n",
    "    \n",
    "    # Verificar si alguna de las cargas absolutas es mayor que 0.1\n",
    "    if np.any(np.abs(loadings_i) > 0.00001):\n",
    "        # Imprimir el nombre de la variable explicativa y su carga correspondiente\n",
    "        print(f\"Variable explicativa: {Variables_Explicatorias[i]}\")\n",
    "        print(f\"Carga: {loadings_i}\")"
   ]
  },
  {
   "cell_type": "markdown",
   "id": "13e2f6f4-0920-473b-a18e-e772223b8582",
   "metadata": {},
   "source": [
    "## p-valores.\n"
   ]
  },
  {
   "cell_type": "code",
   "execution_count": 15,
   "id": "815608e6-e300-4e76-b688-2c120b0e5db6",
   "metadata": {},
   "outputs": [
    {
     "name": "stdout",
     "output_type": "stream",
     "text": [
      "Correlaciones:\n",
      "            indice_progresismo indice_conservadurismo cambio_tiempo  \\\n",
      "                     cambio_op              cambio_op     cambio_op   \n",
      "Correlación           0.138211               0.028429     -0.021016   \n",
      "\n",
      "            tipo_item_Conservador tipo_item_Progresista  \\\n",
      "                        cambio_op             cambio_op   \n",
      "Correlación             -0.776034              0.776034   \n",
      "\n",
      "            tipo_candidato_Derecha tipo_candidato_Izquierda  \n",
      "                         cambio_op                cambio_op  \n",
      "Correlación              -0.008024                 0.008024  \n",
      "\n",
      "P-valores:\n",
      "        indice_progresismo indice_conservadurismo cambio_tiempo  \\\n",
      "                 cambio_op              cambio_op     cambio_op   \n",
      "p-valor       1.607577e-48               0.002726      0.026733   \n",
      "\n",
      "        tipo_item_Conservador tipo_item_Progresista tipo_candidato_Derecha  \\\n",
      "                    cambio_op             cambio_op              cambio_op   \n",
      "p-valor                   0.0                   0.0                0.39768   \n",
      "\n",
      "        tipo_candidato_Izquierda  \n",
      "                       cambio_op  \n",
      "p-valor                  0.39768  \n"
     ]
    }
   ],
   "source": [
    "import numpy as np\n",
    "import pandas as pd\n",
    "from scipy.stats import pearsonr\n",
    "\n",
    "# Obtener las componentes canónicas\n",
    "correlaciones = {}\n",
    "p_valores = {}\n",
    "\n",
    "# Calcular correlaciones entre cada VE y cada VR\n",
    "for i, var_exp in enumerate(Variables_Explicatorias):\n",
    "    for j, var_resp in enumerate(Variables_Respuesta):\n",
    "        corr, p_val = pearsonr(df_VE[:, i], df_VR[:, j])\n",
    "        correlaciones[(var_exp, var_resp)] = corr\n",
    "        p_valores[(var_exp, var_resp)] = p_val\n",
    "\n",
    "# Convertir a DataFrames para una mejor visualización\n",
    "df_correlaciones = pd.DataFrame(correlaciones, index=['Correlación'])\n",
    "df_p_valores = pd.DataFrame(p_valores, index=['p-valor'])\n",
    "\n",
    "print(\"Correlaciones:\")\n",
    "print(df_correlaciones)\n",
    "\n",
    "print(\"\\nP-valores:\")\n",
    "print(df_p_valores)"
   ]
  },
  {
   "cell_type": "code",
   "execution_count": null,
   "id": "9d6a11e6-18dd-4dde-88df-63621eb39ced",
   "metadata": {},
   "outputs": [],
   "source": []
  }
 ],
 "metadata": {
  "kernelspec": {
   "display_name": "Python 3 (ipykernel)",
   "language": "python",
   "name": "python3"
  },
  "language_info": {
   "codemirror_mode": {
    "name": "ipython",
    "version": 3
   },
   "file_extension": ".py",
   "mimetype": "text/x-python",
   "name": "python",
   "nbconvert_exporter": "python",
   "pygments_lexer": "ipython3",
   "version": "3.11.7"
  }
 },
 "nbformat": 4,
 "nbformat_minor": 5
}
