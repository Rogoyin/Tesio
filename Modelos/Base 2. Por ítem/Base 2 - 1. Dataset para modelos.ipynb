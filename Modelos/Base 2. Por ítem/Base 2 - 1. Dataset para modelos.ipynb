{
 "cells": [
  {
   "cell_type": "markdown",
   "id": "b3ac8f00-5081-4d74-bab0-662e5891ee22",
   "metadata": {
    "jp-MarkdownHeadingCollapsed": true
   },
   "source": [
    "### Librerías"
   ]
  },
  {
   "cell_type": "code",
   "execution_count": 95,
   "id": "9cd0b17b-3f7b-48a3-bb7d-ab2d2978c12a",
   "metadata": {},
   "outputs": [],
   "source": [
    "import pandas as pd"
   ]
  },
  {
   "cell_type": "markdown",
   "id": "87829e27-3568-4e39-a910-2e9adaba25c6",
   "metadata": {},
   "source": [
    "### Carga del dataset"
   ]
  },
  {
   "cell_type": "markdown",
   "id": "0c4d6ad7-aada-4445-8405-61073adae591",
   "metadata": {},
   "source": [
    "Carga del dataset con todos los datos, ya limpios."
   ]
  },
  {
   "cell_type": "code",
   "execution_count": 96,
   "id": "97e71a30-d0d1-40b8-ad85-00b450b36d71",
   "metadata": {},
   "outputs": [],
   "source": [
    "# Carga del dataset.\n",
    "df = pd.read_excel(\"J:/My Drive/Experimento/Plantillas finales/5. Generales - Con Cambios de opinión por Ítem (Base 2).xlsx\")"
   ]
  },
  {
   "cell_type": "markdown",
   "id": "f81e455e-169c-4523-ae93-021b25df7139",
   "metadata": {},
   "source": [
    "Se imprimen las columnas para ver qué variables con strings deben pasarse a números."
   ]
  },
  {
   "cell_type": "code",
   "execution_count": 97,
   "id": "1f093c75-1d59-4de1-8194-cf6fabd09cae",
   "metadata": {},
   "outputs": [],
   "source": [
    "# Imprimir columnas.\n",
    "# print(df.columns)"
   ]
  },
  {
   "cell_type": "markdown",
   "id": "b48ec6db-6e8b-4a1d-88b0-2c7e412bdf8c",
   "metadata": {},
   "source": [
    "## Variables strings → Variables int"
   ]
  },
  {
   "cell_type": "markdown",
   "id": "7481ee95-5b01-47fb-8fe7-f804b6f442ab",
   "metadata": {},
   "source": [
    "Convertimos a números las siguientes variables:\n",
    "- 'genero'\n",
    "- 'provincia'\n",
    "- 'e_social'\n",
    "- 'niv_educativo'\n",
    "- 'f_ingreso'\n",
    "- 'inmueble_res'\n",
    "- 'voto_2019'\n",
    "- 'voto_PASO_2023'\n",
    "- 'candidato_PASO_2023'\n",
    "- 'votara_2023'\n",
    "- 'afiliacion_pol'\n",
    "\n",
    "Para eso vamos analizando una por una cada variable y convertimos los datos a números según los strings que salgan."
   ]
  },
  {
   "cell_type": "markdown",
   "id": "7c609fe6-bdbf-46b2-859b-15a66b8d7341",
   "metadata": {
    "jp-MarkdownHeadingCollapsed": true
   },
   "source": [
    "### Género"
   ]
  },
  {
   "cell_type": "code",
   "execution_count": 98,
   "id": "cf5cc9e7-84ec-4c4a-89c9-61421013a473",
   "metadata": {},
   "outputs": [],
   "source": [
    "# Distribución de las variables categóricas\n",
    "# print(df['genero'].value_counts())"
   ]
  },
  {
   "cell_type": "code",
   "execution_count": 99,
   "id": "5c09b138-1dc2-4a91-a4c7-884476217f14",
   "metadata": {},
   "outputs": [],
   "source": [
    "# Crear el diccionario de mapeo.\n",
    "Genero_Mapeo = {\n",
    "    'femenino': 'Femenino',\n",
    "    'masculino': 'Masculino'\n",
    "}\n",
    "\n",
    "# Asignar un valor predeterminado para los no mapeados.\n",
    "Valor_Default = 'Otro'"
   ]
  },
  {
   "cell_type": "code",
   "execution_count": 100,
   "id": "a728beb5-f6c0-4d6f-8806-f5f570cd8b86",
   "metadata": {},
   "outputs": [],
   "source": [
    "# Aplicar el diccionario de mapeo a la columna.\n",
    "df['genero'] = df['genero'].map(Genero_Mapeo).fillna(Valor_Default).astype(str)"
   ]
  },
  {
   "cell_type": "markdown",
   "id": "97a9658c-17a0-4622-b7b6-de043a5db0af",
   "metadata": {
    "jp-MarkdownHeadingCollapsed": true
   },
   "source": [
    "### Provincia"
   ]
  },
  {
   "cell_type": "code",
   "execution_count": 101,
   "id": "b7b37ac9-3b62-4b9f-96b0-b2bb99997c32",
   "metadata": {},
   "outputs": [],
   "source": [
    "# Distribución de las variables categóricas\n",
    "#print(df['provincia'].value_counts())"
   ]
  },
  {
   "cell_type": "code",
   "execution_count": 102,
   "id": "51c1188c-a4e7-4de4-9c0a-1a2f90179ff2",
   "metadata": {},
   "outputs": [],
   "source": [
    "# Crear el diccionario de mapeo.\n",
    "Provincia_Mapeo = {\n",
    "    'buenos aires': 'BsAs',\n",
    "    'ciudad autónoma de buenos aires': 'CABA',\n",
    "    'córdoba': 'Cordoba',\n",
    "    'santa fe': 'SantaFe',\n",
    "    'mendoza': 'Mendoza',\n",
    "    'río negro': 'RioNegro',\n",
    "    'entre ríos': 'EntreRios',\n",
    "    'san luis': 'SanLuis',\n",
    "    'neuquén': 'Neuquen',\n",
    "    'chubut': 'Chubut',\n",
    "    'tucumán': 'Tucuman', \n",
    "    'chubut': 'Chubut', \n",
    "    'chaco': 'Chaco'}"
   ]
  },
  {
   "cell_type": "code",
   "execution_count": 103,
   "id": "594a61b5-0670-4368-819d-d2b672bfc2e9",
   "metadata": {},
   "outputs": [],
   "source": [
    "# Aplicar el diccionario de mapeo a la columna.\n",
    "df['provincia'] = df['provincia'].map(Provincia_Mapeo).fillna(Valor_Default).astype(str)"
   ]
  },
  {
   "cell_type": "markdown",
   "id": "64bfdae6-57d0-40bd-a441-ed98397bf0bb",
   "metadata": {
    "jp-MarkdownHeadingCollapsed": true
   },
   "source": [
    "### Estrato social"
   ]
  },
  {
   "cell_type": "code",
   "execution_count": 104,
   "id": "a26f7323-73ba-419f-aa00-34503e0e2f64",
   "metadata": {},
   "outputs": [],
   "source": [
    "# Distribución de las variables categóricas\n",
    "#print(df['e_social'].value_counts())"
   ]
  },
  {
   "cell_type": "code",
   "execution_count": 105,
   "id": "5217c7fe-f0e4-4620-a6be-a4b807ed6866",
   "metadata": {},
   "outputs": [],
   "source": [
    "# Crear el diccionario de mapeo.\n",
    "Estrato_Mapeo = {\n",
    "    'medio': 'Medio',\n",
    "    'bajo medio': 'MedioBajo',\n",
    "    'medio alto': 'MedioAlto',\n",
    "    'bajo': 'Bajo',\n",
    "    'alto': 'Alto'}"
   ]
  },
  {
   "cell_type": "code",
   "execution_count": 106,
   "id": "777a7c92-e38d-49dd-b398-ee9991049390",
   "metadata": {},
   "outputs": [],
   "source": [
    "# Aplicar el diccionario de mapeo a la columna.\n",
    "df['e_social'] = df['e_social'].map(Estrato_Mapeo).fillna(Valor_Default).astype(str)"
   ]
  },
  {
   "cell_type": "markdown",
   "id": "2d64ae0e-9635-4e0c-9c8a-c60491bb28ef",
   "metadata": {
    "jp-MarkdownHeadingCollapsed": true
   },
   "source": [
    "### Fuente de ingreso"
   ]
  },
  {
   "cell_type": "code",
   "execution_count": 107,
   "id": "4b91759a-bde3-45ff-b459-8a4d00d5900c",
   "metadata": {},
   "outputs": [],
   "source": [
    "# Distribución de las variables categóricas\n",
    "#print(df['f_ingreso'].value_counts())"
   ]
  },
  {
   "cell_type": "code",
   "execution_count": 108,
   "id": "850c6f0f-2e48-4930-9bba-d1cd9050c768",
   "metadata": {},
   "outputs": [],
   "source": [
    "# Crear el diccionario de mapeo.\n",
    "Ingreso_Mapeo = {\n",
    "    'trabajo': 'Trabajo',\n",
    "    'sustento familiar': 'Familia',\n",
    "    'beca institucional': 'Beca',\n",
    "    'tiene una empresa': 'EmpresaPropia',\n",
    "    'renta': 'Renta'}"
   ]
  },
  {
   "cell_type": "code",
   "execution_count": 109,
   "id": "d59f33ba-b662-43b0-b95a-994847dcd19e",
   "metadata": {},
   "outputs": [],
   "source": [
    "# Aplicar el diccionario de mapeo a la columna.\n",
    "df['f_ingreso'] = df['f_ingreso'].map(Ingreso_Mapeo).fillna(Valor_Default).astype(str)"
   ]
  },
  {
   "cell_type": "markdown",
   "id": "7f05e302-a8f6-477f-8fe8-230fd6993a98",
   "metadata": {
    "jp-MarkdownHeadingCollapsed": true
   },
   "source": [
    "### Nivel educativo"
   ]
  },
  {
   "cell_type": "code",
   "execution_count": 110,
   "id": "fb421d9a-7c7b-406b-89c5-e7493dbea1c7",
   "metadata": {},
   "outputs": [],
   "source": [
    "# Distribución de las variables categóricas\n",
    "#print(df['niv_educativo'].value_counts())"
   ]
  },
  {
   "cell_type": "code",
   "execution_count": 111,
   "id": "bb3b3ab0-0130-4fc0-a8ae-ebe03612c311",
   "metadata": {},
   "outputs": [],
   "source": [
    "# Crear el diccionario de mapeo.\n",
    "Educacion_Mapeo = {\n",
    "    'universitario': 'Universitario',\n",
    "    'terciario': 'Terciario',\n",
    "    'secundario': 'Secundario',\n",
    "    'posgrado': 'Posgrado',\n",
    "    'primario': 'Primario'}"
   ]
  },
  {
   "cell_type": "code",
   "execution_count": 112,
   "id": "d266deda-1f3b-4f3e-a223-0713d5b018b5",
   "metadata": {},
   "outputs": [],
   "source": [
    "# Aplicar el diccionario de mapeo a la columna.\n",
    "df['niv_educativo'] = df['niv_educativo'].map(Educacion_Mapeo).fillna(Valor_Default).astype(str)"
   ]
  },
  {
   "cell_type": "markdown",
   "id": "7d3177a4-07c5-4a01-8ae9-a74b44ed861b",
   "metadata": {
    "jp-MarkdownHeadingCollapsed": true
   },
   "source": [
    "### Tipo de inmueble"
   ]
  },
  {
   "cell_type": "code",
   "execution_count": 113,
   "id": "46680aa7-67cb-4e52-925f-377004d149b2",
   "metadata": {},
   "outputs": [],
   "source": [
    "# Distribución de las variables categóricas\n",
    "#print(df['inmueble_res'].value_counts())"
   ]
  },
  {
   "cell_type": "code",
   "execution_count": 114,
   "id": "6880ad27-a296-422e-a54c-8f65141a8deb",
   "metadata": {},
   "outputs": [],
   "source": [
    "# Crear el diccionario de mapeo.\n",
    "Inmueble_Mapeo = {\n",
    "    'propio': 'Propio',\n",
    "    'alquilo': 'Alquilo',\n",
    "    'cedido': 'Cedido',\n",
    "    'prestado': 'Prestado'}"
   ]
  },
  {
   "cell_type": "code",
   "execution_count": 115,
   "id": "564eb568-83aa-4597-a796-f46e5722a73f",
   "metadata": {},
   "outputs": [],
   "source": [
    "# Aplicar el diccionario de mapeo a la columna.\n",
    "df['inmueble_res'] = df['inmueble_res'].map(Inmueble_Mapeo).fillna(Valor_Default).astype(str)"
   ]
  },
  {
   "cell_type": "markdown",
   "id": "1ff71171-482f-4482-a73a-e104954620d4",
   "metadata": {
    "jp-MarkdownHeadingCollapsed": true
   },
   "source": [
    "### Voto en 2019"
   ]
  },
  {
   "cell_type": "code",
   "execution_count": 116,
   "id": "43d45e6d-16d5-4737-a56c-9da0bac95310",
   "metadata": {},
   "outputs": [],
   "source": [
    "# Distribución de las variables categóricas\n",
    "#print(df['voto_2019'].value_counts())"
   ]
  },
  {
   "cell_type": "code",
   "execution_count": 117,
   "id": "d9ee5332-c951-4367-b3a6-ab5ef36815f2",
   "metadata": {},
   "outputs": [],
   "source": [
    "# Crear el diccionario de mapeo.\n",
    "Voto2019_Mapeo = {\n",
    "    'Alberto Fernandez': 'Fernandez',\n",
    "    'Mauricio Macri': 'Macri',\n",
    "    'Nicolás Del Caño': 'DelCaño',\n",
    "    'no vote': 'NoVoto',\n",
    "    'Voto en blanco': 'Blanco',\n",
    "    'Roberto Lavagna': 'Lavagna',\n",
    "    'prefiero no decirlo': \"Reservado\",\n",
    "    'J.L. Espert': 'Espert',\n",
    "    'J. Gomez Centurión': 'GomezCenturion'}"
   ]
  },
  {
   "cell_type": "code",
   "execution_count": 118,
   "id": "3f4b29dd-bb76-4877-9dc3-4e30cc1042e8",
   "metadata": {},
   "outputs": [],
   "source": [
    "# Aplicar el diccionario de mapeo a la columna.\n",
    "df['voto_2019'] = df['voto_2019'].map(Voto2019_Mapeo).fillna(Valor_Default).astype(str)"
   ]
  },
  {
   "cell_type": "markdown",
   "id": "f61e68bb-4085-4111-973f-c940cfc7f59b",
   "metadata": {
    "jp-MarkdownHeadingCollapsed": true
   },
   "source": [
    "### Afiliación política"
   ]
  },
  {
   "cell_type": "code",
   "execution_count": 119,
   "id": "f7e48ce8-e0d4-4d57-8419-fd837d4fcf63",
   "metadata": {},
   "outputs": [],
   "source": [
    "# Distribución de las variables categóricas\n",
    "#print(df['afiliacion_pol'].value_counts())"
   ]
  },
  {
   "cell_type": "code",
   "execution_count": 120,
   "id": "a08481a4-5717-41fe-a9aa-dc61e0fc3eb0",
   "metadata": {},
   "outputs": [],
   "source": [
    "# Crear el diccionario de mapeo.\n",
    "Afiliado_Mapeo = {\n",
    "    'no': 'No',\n",
    "    'si': 'Si'}"
   ]
  },
  {
   "cell_type": "code",
   "execution_count": 121,
   "id": "09d4d965-c2e1-4197-81ae-e9360e285870",
   "metadata": {},
   "outputs": [],
   "source": [
    "# Aplicar el diccionario de mapeo a la columna.\n",
    "df['afiliacion_pol'] = df['afiliacion_pol'].map(Afiliado_Mapeo).fillna(Valor_Default).astype(str)"
   ]
  },
  {
   "cell_type": "markdown",
   "id": "0165bff6-00c9-4f4c-bda2-b69c4e186f0c",
   "metadata": {
    "jp-MarkdownHeadingCollapsed": true
   },
   "source": [
    "### Votó o no en las PASO 2023"
   ]
  },
  {
   "cell_type": "code",
   "execution_count": 122,
   "id": "78cb0727-452a-4833-aa3e-47b18d0399c7",
   "metadata": {},
   "outputs": [],
   "source": [
    "# Distribución de las variables categóricas\n",
    "#print(df['voto_PASO_2023'].value_counts())"
   ]
  },
  {
   "cell_type": "code",
   "execution_count": 123,
   "id": "c6f3bb1a-9ded-4e86-8c20-4fa0747fc808",
   "metadata": {},
   "outputs": [],
   "source": [
    "# Crear el diccionario de mapeo.\n",
    "VotoPaso2023_Mapeo = {\n",
    "    'si': 'Si',\n",
    "    'no': 'No'}"
   ]
  },
  {
   "cell_type": "code",
   "execution_count": 124,
   "id": "8caaf94a-96be-4d0f-b541-18bec5fdff3e",
   "metadata": {},
   "outputs": [],
   "source": [
    "# Aplicar el diccionario de mapeo a la columna.\n",
    "df['voto_PASO_2023'] = df['voto_PASO_2023'].map(VotoPaso2023_Mapeo).fillna(Valor_Default).astype(str)"
   ]
  },
  {
   "cell_type": "markdown",
   "id": "5358a91e-70ee-4cae-9ab2-fa8358ff6f62",
   "metadata": {
    "jp-MarkdownHeadingCollapsed": true
   },
   "source": [
    "### Candidato en las PASO 2023"
   ]
  },
  {
   "cell_type": "code",
   "execution_count": 125,
   "id": "2e6a3567-2642-4606-a28e-61c08e90205b",
   "metadata": {},
   "outputs": [],
   "source": [
    "# Distribución de las variables categóricas\n",
    "#print(df['candidato_PASO_2023'].value_counts())"
   ]
  },
  {
   "cell_type": "code",
   "execution_count": 126,
   "id": "5582e6ac-6b8b-42db-918c-8389679e11b3",
   "metadata": {},
   "outputs": [],
   "source": [
    "# Crear el diccionario de mapeo.\n",
    "CandidatoPaso2023_Mapeo = {\n",
    "    'Sergio Massa': 'Massa',\n",
    "    'Juan Grabois': 'Grabois',\n",
    "    'Myriam Bregman': 'Bregman',\n",
    "    'no aplica': 'Inaplicable',\n",
    "    'Patricia Bullrich': 'Bullrich',\n",
    "    'Horacio Rodriguez Larreta': 'Larreta',\n",
    "    'Javier Milei': 'Milei',\n",
    "    'Juan Schiaretti': 'Schiaretti',\n",
    "    'Voto en blanco': 'Blanco',\n",
    "    'Guillermo Moreno': 'Moreno',\n",
    "    'Prefiero no decirlo': 'Reservado'}"
   ]
  },
  {
   "cell_type": "code",
   "execution_count": 127,
   "id": "8392c5c0-14bc-417d-8775-351abd612575",
   "metadata": {},
   "outputs": [],
   "source": [
    "# Aplicar el diccionario de mapeo a la columna.\n",
    "df['candidato_PASO_2023'] = df['candidato_PASO_2023'].map(CandidatoPaso2023_Mapeo).fillna(Valor_Default).astype(str)"
   ]
  },
  {
   "cell_type": "markdown",
   "id": "a5a5e020-44fe-4fd6-a1bb-f4571ba50680",
   "metadata": {
    "jp-MarkdownHeadingCollapsed": true
   },
   "source": [
    "### Vota o no en las elecciones del 2023"
   ]
  },
  {
   "cell_type": "code",
   "execution_count": 128,
   "id": "dbd01ad1-4e10-407f-8969-696df259240d",
   "metadata": {},
   "outputs": [],
   "source": [
    "# Distribución de las variables categóricas\n",
    "#print(df['votara_2023'].value_counts())"
   ]
  },
  {
   "cell_type": "code",
   "execution_count": 129,
   "id": "91f1a6dd-8fde-4f8e-828e-32d58b62cd3e",
   "metadata": {},
   "outputs": [],
   "source": [
    "# Crear el diccionario de mapeo.\n",
    "Votara2023_Mapeo = {\n",
    "    'si': 'Si',\n",
    "    'no': 'No',\n",
    "    'no sabe': 'Ignora'}"
   ]
  },
  {
   "cell_type": "code",
   "execution_count": 130,
   "id": "cc54e201-e241-4c1a-917c-ebb076908788",
   "metadata": {},
   "outputs": [],
   "source": [
    "# Aplicar el diccionario de mapeo a la columna.\n",
    "df['votara_2023'] = df['votara_2023'].map(Votara2023_Mapeo).fillna(Valor_Default).astype(str)"
   ]
  },
  {
   "cell_type": "markdown",
   "id": "0674e8ab-bfcc-43c6-ad9b-87029f2e50aa",
   "metadata": {},
   "source": [
    "## Database → Database con columnas dummies"
   ]
  },
  {
   "cell_type": "markdown",
   "id": "e1511e91-d081-467a-8907-1ebd9800ec94",
   "metadata": {},
   "source": [
    "Lo que se hace es pasar a columnas las variables categóricas. \n",
    "\n",
    "O sea, si tenemos la columna \"genero\", categórica porque tiene solo 3 opciones (Masculino, Femenino y Otro/a), pasa a ser 3 columnas:\n",
    "- genero_Masculino,\n",
    "- genero_Femenino,\n",
    "- genero_Otro/a.\n",
    "Cada columna va a decir True o False, dependiendo de si el sujeto es de ese género o no. "
   ]
  },
  {
   "cell_type": "code",
   "execution_count": 131,
   "id": "7339f776-adc1-4f01-8945-3c20c80acc11",
   "metadata": {},
   "outputs": [],
   "source": [
    "# Convierto las variables explicatorias categóricas en variables dummy\n",
    "df_Largo = pd.get_dummies(df, columns=['genero',\n",
    "                                       'provincia', \n",
    "                                       'e_social', \n",
    "                                       'niv_educativo',\t\n",
    "                                       'f_ingreso', \n",
    "                                       'inmueble_res', \n",
    "                                       'voto_2019', \n",
    "                                       'voto_PASO_2023', \n",
    "                                       'candidato_PASO_2023', \n",
    "                                       'votara_2023', \n",
    "                                       'afiliacion_pol'])"
   ]
  },
  {
   "cell_type": "code",
   "execution_count": 132,
   "id": "945670b6-9f7c-4b2b-95e2-58ec06ed3afb",
   "metadata": {},
   "outputs": [],
   "source": [
    "# Convierto las columnas con las variables categóricas en variables dummy.\n",
    "df_Largo = pd.get_dummies(df, columns=['genero', \n",
    "                                       'provincia', \n",
    "                                       'e_social', \n",
    "                                       'niv_educativo',\t\n",
    "                                       'f_ingreso', \n",
    "                                       'inmueble_res', \n",
    "                                       'voto_2019', \n",
    "                                       'voto_PASO_2023', \n",
    "                                       'candidato_PASO_2023', \n",
    "                                       'votara_2023', \n",
    "                                       'afiliacion_pol'])"
   ]
  },
  {
   "cell_type": "code",
   "execution_count": 133,
   "id": "bf05ff3f-4e82-49ab-9927-7592bec4dded",
   "metadata": {},
   "outputs": [],
   "source": [
    "# Lista de las columnas con variables dummy para convertirlas en variables int 0 y 1 (están definidas por default como objetos, son True y False).\n",
    "Columnas_Dummies = df_Largo.columns[df_Largo.columns.str.startswith('genero_') |  \n",
    "                                   df_Largo.columns.str.startswith('provincia_') | \n",
    "                                   df_Largo.columns.str.startswith('e_social_') | \n",
    "                                   df_Largo.columns.str.startswith('niv_educativo_') | \n",
    "                                   df_Largo.columns.str.startswith('f_ingreso_') | \n",
    "                                   df_Largo.columns.str.startswith('inmueble_res_') | \n",
    "                                   df_Largo.columns.str.startswith('voto_2019_') | \n",
    "                                   df_Largo.columns.str.startswith('voto_PASO_2023_') | \n",
    "                                   df_Largo.columns.str.startswith('candidato_PASO_2023_') | \n",
    "                                   df_Largo.columns.str.startswith('votara_2023_') |  \n",
    "                                   df_Largo.columns.str.startswith('afiliacion_pol_')]"
   ]
  },
  {
   "cell_type": "code",
   "execution_count": 134,
   "id": "331cc970-8b81-4b06-8018-0cc6187539d3",
   "metadata": {},
   "outputs": [],
   "source": [
    "# Las convierto en variables discretas, o sea, 1 (True) y 0 (False).\n",
    "df_Largo[Columnas_Dummies] = df_Largo[Columnas_Dummies].astype(int)"
   ]
  },
  {
   "cell_type": "code",
   "execution_count": null,
   "id": "a2ca4b92-f897-4bf5-bf6a-fa2c7b9713b3",
   "metadata": {},
   "outputs": [],
   "source": []
  },
  {
   "cell_type": "code",
   "execution_count": 135,
   "id": "ebbc3bf0-ad6d-460b-9f96-ebb9b2ead49b",
   "metadata": {},
   "outputs": [],
   "source": [
    "Columnas_A_Eliminar = [\n",
    "    'url_exp_id',\n",
    "    'url_environment',\n",
    "    'url_test_version',\n",
    "    'exp_id',\n",
    "    'environment',\n",
    "    'test_version',\n",
    "    'platform',\n",
    "    'subject_ip',\n",
    "    'screen_resolution',\n",
    "    'questions_1_date',\n",
    "    'questions_1_time',\n",
    "    'results_date',\n",
    "    'results_time',\n",
    "    'token',\n",
    "    'hash',\n",
    "    'window_resolution_ini',\n",
    "    'nacionalidad',\n",
    "    'medios_inf',\n",
    "    'redes_uso',\n",
    "    'medios_prensa',\n",
    "    'IP_item3_Der_candidato',\n",
    "    'IP_item3_Izq_candidato',\n",
    "    'IP_item4_Der_candidato',\n",
    "    'IP_item4_Izq_candidato',\n",
    "    'IP_item5_Der_candidato',\n",
    "    'IP_item5_Izq_candidato',\n",
    "    'IP_item6_Der_candidato',\n",
    "    'IP_item6_Izq_candidato',\n",
    "    'IP_item7_Der_candidato',\n",
    "    'IP_item7_Izq_candidato',\n",
    "    'IP_item8_Der_candidato',\n",
    "    'IP_item8_Izq_candidato',\n",
    "    'IP_item9_Der_candidato',\n",
    "    'IP_item9_Izq_candidato',\n",
    "    'IP_item10_Der_candidato',\n",
    "    'IP_item10_Izq_candidato',\n",
    "    'IP_item11_Der_candidato',\n",
    "    'IP_item11_Izq_candidato',\n",
    "    'IP_item16_Der_candidato',\n",
    "    'IP_item16_Izq_candidato',\n",
    "    'IP_item19_Der_candidato',\n",
    "    'IP_item19_Izq_candidato',\n",
    "    'IP_item20_Der_candidato',\n",
    "    'IP_item20_Izq_candidato',\n",
    "    'IP_item22_Der_candidato',\n",
    "    'IP_item22_Izq_candidato',\n",
    "    'IP_item23_Der_candidato',\n",
    "    'IP_item23_Izq_candidato',\n",
    "    'IP_item24_Der_candidato',\n",
    "    'IP_item24_Izq_candidato',\n",
    "    'IP_item25_Der_candidato',\n",
    "    'IP_item25_Izq_candidato',\n",
    "    'IP_item27_Der_candidato',\n",
    "    'IP_item27_Izq_candidato',\n",
    "    'IP_item28_Der_candidato',\n",
    "    'IP_item28_Izq_candidato',\n",
    "    'IP_item29_Der_candidato',\n",
    "    'IP_item29_Izq_candidato',\n",
    "    'IP_item30_Der_candidato',\n",
    "    'IP_item30_Izq_candidato',\n",
    "    'sentimiento',\n",
    "    'eventoestresante',\n",
    "    'sabiadelexperimento',\n",
    "    'usasustancias',\n",
    "    'tabaco',\n",
    "    'alcohol',\n",
    "    'marihuana',\n",
    "    'tomastedrogasrecreativas',\n",
    "    'cualdrogarecreativa',\n",
    "    'medicamentos',\n",
    "    'cualmedicamento',\n",
    "    'otrassustancias',\n",
    "    'horassueñopromedio',\n",
    "    'sueñonocheanterior',\n",
    "    'windowresolutionend',\n",
    "    'total',\n",
    "    'result_165'\n",
    "]\n",
    "\n",
    "# Eliminar columnas no numéricas\n",
    "df_Largo = df_Largo.drop(columns=Columnas_A_Eliminar, errors='ignore')"
   ]
  },
  {
   "cell_type": "markdown",
   "id": "cc903273-ebce-41da-b264-e198cd209efd",
   "metadata": {},
   "source": [
    "## Ordenar Database → VEs y VRs"
   ]
  },
  {
   "cell_type": "markdown",
   "id": "541cd59c-c2e1-49b9-b2fb-6b0e03c4bb69",
   "metadata": {},
   "source": [
    "Muchos modelos de regresión lineal requieren una constante (intercepto) para funcionar correctamente. Esto se hace añadiendo una columna de unos a las variables explicativas."
   ]
  },
  {
   "cell_type": "code",
   "execution_count": 136,
   "id": "7116620e-e708-458d-820d-06f6242d777d",
   "metadata": {},
   "outputs": [],
   "source": [
    "# Agregar una columna con una constante 1 al modelo.\n",
    "\n",
    "import statsmodels.api as sm\n",
    "\n",
    "df_Largo = sm.add_constant(df_Largo) "
   ]
  },
  {
   "cell_type": "code",
   "execution_count": 137,
   "id": "bd8a94cd-36a7-4716-83f6-e2798873f91b",
   "metadata": {},
   "outputs": [],
   "source": [
    "Cambio_Opinion = ['cambio_op_der',\t\n",
    "                  'cambio_op_der_tiempo',\n",
    "                  'cambio_op_con_der',\t\n",
    "                  'cambio_op_con_der_tiempo',\t\n",
    "                  'cambio_op_pro_der',\t\n",
    "                  'cambio_op_pro_der_tiempo',\t\n",
    "                  'cambio_op_izq',\t\n",
    "                  'cambio_op_izq_tiempo',\t\n",
    "                  'cambio_op_con_izq',\t\n",
    "                  'cambio_op_con_izq_tiempo',\t\n",
    "                  'cambio_op_pro_izq',\n",
    "                  'cambio_op_pro_izq_tiempo']\n"
   ]
  },
  {
   "cell_type": "code",
   "execution_count": 138,
   "id": "54873681-9e5c-4016-8510-6ef0c562637e",
   "metadata": {},
   "outputs": [],
   "source": [
    "# Grupos de variables.\n",
    "Variables_Respuesta = ['cambio_op_pro', 'cambio_op_con']\n",
    "Variables_Explicatorias = [i for i in df_Largo.columns if i not in ['id', 'const'] + Variables_Respuesta + Cambio_Opinion]"
   ]
  },
  {
   "cell_type": "code",
   "execution_count": 139,
   "id": "b9eb4669-f73c-454e-8c53-810df2a14a3b",
   "metadata": {},
   "outputs": [],
   "source": [
    "Orden = ['id', 'const'] + Variables_Explicatorias + Variables_Respuesta"
   ]
  },
  {
   "cell_type": "code",
   "execution_count": 140,
   "id": "368a1255-02e5-40c4-9002-8f34a4dfa8df",
   "metadata": {},
   "outputs": [],
   "source": [
    "# Reordenar el DataFrame según el orden deseado\n",
    "df_Largo = df_Largo[Orden]"
   ]
  },
  {
   "cell_type": "code",
   "execution_count": 141,
   "id": "c8086cea-3af2-4e0f-a569-a83ea687a8ee",
   "metadata": {},
   "outputs": [
    {
     "data": {
      "text/html": [
       "<div>\n",
       "<style scoped>\n",
       "    .dataframe tbody tr th:only-of-type {\n",
       "        vertical-align: middle;\n",
       "    }\n",
       "\n",
       "    .dataframe tbody tr th {\n",
       "        vertical-align: top;\n",
       "    }\n",
       "\n",
       "    .dataframe thead th {\n",
       "        text-align: right;\n",
       "    }\n",
       "</style>\n",
       "<table border=\"1\" class=\"dataframe\">\n",
       "  <thead>\n",
       "    <tr style=\"text-align: right;\">\n",
       "      <th></th>\n",
       "      <th>id</th>\n",
       "      <th>const</th>\n",
       "      <th>edad</th>\n",
       "      <th>autopercep_izqder</th>\n",
       "      <th>autopercep_conpro</th>\n",
       "      <th>autopercep_perantiper</th>\n",
       "      <th>cercania_Massa</th>\n",
       "      <th>cercania_Bullrich</th>\n",
       "      <th>cercania_Bregman</th>\n",
       "      <th>cercania_Milei</th>\n",
       "      <th>...</th>\n",
       "      <th>candidato_PASO_2023_Otro</th>\n",
       "      <th>candidato_PASO_2023_Reservado</th>\n",
       "      <th>candidato_PASO_2023_Schiaretti</th>\n",
       "      <th>votara_2023_Ignora</th>\n",
       "      <th>votara_2023_No</th>\n",
       "      <th>votara_2023_Si</th>\n",
       "      <th>afiliacion_pol_No</th>\n",
       "      <th>afiliacion_pol_Si</th>\n",
       "      <th>cambio_op_pro</th>\n",
       "      <th>cambio_op_con</th>\n",
       "    </tr>\n",
       "  </thead>\n",
       "  <tbody>\n",
       "    <tr>\n",
       "      <th>0</th>\n",
       "      <td>2792</td>\n",
       "      <td>1.0</td>\n",
       "      <td>67</td>\n",
       "      <td>6</td>\n",
       "      <td>8</td>\n",
       "      <td>10</td>\n",
       "      <td>1</td>\n",
       "      <td>4</td>\n",
       "      <td>1</td>\n",
       "      <td>2</td>\n",
       "      <td>...</td>\n",
       "      <td>0</td>\n",
       "      <td>0</td>\n",
       "      <td>0</td>\n",
       "      <td>0</td>\n",
       "      <td>1</td>\n",
       "      <td>0</td>\n",
       "      <td>1</td>\n",
       "      <td>0</td>\n",
       "      <td>0.369048</td>\n",
       "      <td>-1.833333</td>\n",
       "    </tr>\n",
       "    <tr>\n",
       "      <th>1</th>\n",
       "      <td>2800</td>\n",
       "      <td>1.0</td>\n",
       "      <td>54</td>\n",
       "      <td>8</td>\n",
       "      <td>2</td>\n",
       "      <td>3</td>\n",
       "      <td>1</td>\n",
       "      <td>1</td>\n",
       "      <td>1</td>\n",
       "      <td>3</td>\n",
       "      <td>...</td>\n",
       "      <td>0</td>\n",
       "      <td>0</td>\n",
       "      <td>0</td>\n",
       "      <td>0</td>\n",
       "      <td>0</td>\n",
       "      <td>1</td>\n",
       "      <td>1</td>\n",
       "      <td>0</td>\n",
       "      <td>-0.166667</td>\n",
       "      <td>1.011905</td>\n",
       "    </tr>\n",
       "    <tr>\n",
       "      <th>2</th>\n",
       "      <td>2805</td>\n",
       "      <td>1.0</td>\n",
       "      <td>68</td>\n",
       "      <td>10</td>\n",
       "      <td>10</td>\n",
       "      <td>10</td>\n",
       "      <td>1</td>\n",
       "      <td>5</td>\n",
       "      <td>1</td>\n",
       "      <td>1</td>\n",
       "      <td>...</td>\n",
       "      <td>0</td>\n",
       "      <td>0</td>\n",
       "      <td>0</td>\n",
       "      <td>0</td>\n",
       "      <td>0</td>\n",
       "      <td>1</td>\n",
       "      <td>1</td>\n",
       "      <td>0</td>\n",
       "      <td>2.750000</td>\n",
       "      <td>0.683333</td>\n",
       "    </tr>\n",
       "    <tr>\n",
       "      <th>3</th>\n",
       "      <td>3148</td>\n",
       "      <td>1.0</td>\n",
       "      <td>50</td>\n",
       "      <td>10</td>\n",
       "      <td>2</td>\n",
       "      <td>10</td>\n",
       "      <td>1</td>\n",
       "      <td>3</td>\n",
       "      <td>1</td>\n",
       "      <td>1</td>\n",
       "      <td>...</td>\n",
       "      <td>0</td>\n",
       "      <td>0</td>\n",
       "      <td>0</td>\n",
       "      <td>0</td>\n",
       "      <td>0</td>\n",
       "      <td>1</td>\n",
       "      <td>1</td>\n",
       "      <td>0</td>\n",
       "      <td>0.800000</td>\n",
       "      <td>-0.400000</td>\n",
       "    </tr>\n",
       "    <tr>\n",
       "      <th>4</th>\n",
       "      <td>3212</td>\n",
       "      <td>1.0</td>\n",
       "      <td>37</td>\n",
       "      <td>6</td>\n",
       "      <td>5</td>\n",
       "      <td>6</td>\n",
       "      <td>1</td>\n",
       "      <td>5</td>\n",
       "      <td>1</td>\n",
       "      <td>3</td>\n",
       "      <td>...</td>\n",
       "      <td>0</td>\n",
       "      <td>0</td>\n",
       "      <td>0</td>\n",
       "      <td>0</td>\n",
       "      <td>1</td>\n",
       "      <td>0</td>\n",
       "      <td>1</td>\n",
       "      <td>0</td>\n",
       "      <td>1.700000</td>\n",
       "      <td>-0.600000</td>\n",
       "    </tr>\n",
       "    <tr>\n",
       "      <th>...</th>\n",
       "      <td>...</td>\n",
       "      <td>...</td>\n",
       "      <td>...</td>\n",
       "      <td>...</td>\n",
       "      <td>...</td>\n",
       "      <td>...</td>\n",
       "      <td>...</td>\n",
       "      <td>...</td>\n",
       "      <td>...</td>\n",
       "      <td>...</td>\n",
       "      <td>...</td>\n",
       "      <td>...</td>\n",
       "      <td>...</td>\n",
       "      <td>...</td>\n",
       "      <td>...</td>\n",
       "      <td>...</td>\n",
       "      <td>...</td>\n",
       "      <td>...</td>\n",
       "      <td>...</td>\n",
       "      <td>...</td>\n",
       "      <td>...</td>\n",
       "    </tr>\n",
       "    <tr>\n",
       "      <th>2773</th>\n",
       "      <td>7352</td>\n",
       "      <td>1.0</td>\n",
       "      <td>45</td>\n",
       "      <td>10</td>\n",
       "      <td>10</td>\n",
       "      <td>10</td>\n",
       "      <td>1</td>\n",
       "      <td>3</td>\n",
       "      <td>1</td>\n",
       "      <td>5</td>\n",
       "      <td>...</td>\n",
       "      <td>0</td>\n",
       "      <td>0</td>\n",
       "      <td>0</td>\n",
       "      <td>0</td>\n",
       "      <td>0</td>\n",
       "      <td>1</td>\n",
       "      <td>1</td>\n",
       "      <td>0</td>\n",
       "      <td>-1.523810</td>\n",
       "      <td>3.666667</td>\n",
       "    </tr>\n",
       "    <tr>\n",
       "      <th>2774</th>\n",
       "      <td>7355</td>\n",
       "      <td>1.0</td>\n",
       "      <td>24</td>\n",
       "      <td>4</td>\n",
       "      <td>8</td>\n",
       "      <td>1</td>\n",
       "      <td>5</td>\n",
       "      <td>1</td>\n",
       "      <td>3</td>\n",
       "      <td>1</td>\n",
       "      <td>...</td>\n",
       "      <td>0</td>\n",
       "      <td>0</td>\n",
       "      <td>0</td>\n",
       "      <td>0</td>\n",
       "      <td>0</td>\n",
       "      <td>1</td>\n",
       "      <td>0</td>\n",
       "      <td>1</td>\n",
       "      <td>-1.500000</td>\n",
       "      <td>-2.321429</td>\n",
       "    </tr>\n",
       "    <tr>\n",
       "      <th>2775</th>\n",
       "      <td>7374</td>\n",
       "      <td>1.0</td>\n",
       "      <td>40</td>\n",
       "      <td>10</td>\n",
       "      <td>1</td>\n",
       "      <td>10</td>\n",
       "      <td>1</td>\n",
       "      <td>3</td>\n",
       "      <td>1</td>\n",
       "      <td>5</td>\n",
       "      <td>...</td>\n",
       "      <td>0</td>\n",
       "      <td>0</td>\n",
       "      <td>0</td>\n",
       "      <td>0</td>\n",
       "      <td>0</td>\n",
       "      <td>1</td>\n",
       "      <td>1</td>\n",
       "      <td>0</td>\n",
       "      <td>-0.950000</td>\n",
       "      <td>2.400000</td>\n",
       "    </tr>\n",
       "    <tr>\n",
       "      <th>2776</th>\n",
       "      <td>7402</td>\n",
       "      <td>1.0</td>\n",
       "      <td>53</td>\n",
       "      <td>6</td>\n",
       "      <td>1</td>\n",
       "      <td>10</td>\n",
       "      <td>1</td>\n",
       "      <td>1</td>\n",
       "      <td>1</td>\n",
       "      <td>1</td>\n",
       "      <td>...</td>\n",
       "      <td>0</td>\n",
       "      <td>0</td>\n",
       "      <td>0</td>\n",
       "      <td>0</td>\n",
       "      <td>0</td>\n",
       "      <td>1</td>\n",
       "      <td>1</td>\n",
       "      <td>0</td>\n",
       "      <td>-0.375000</td>\n",
       "      <td>2.933333</td>\n",
       "    </tr>\n",
       "    <tr>\n",
       "      <th>2777</th>\n",
       "      <td>7425</td>\n",
       "      <td>1.0</td>\n",
       "      <td>51</td>\n",
       "      <td>5</td>\n",
       "      <td>5</td>\n",
       "      <td>1</td>\n",
       "      <td>2</td>\n",
       "      <td>1</td>\n",
       "      <td>2</td>\n",
       "      <td>1</td>\n",
       "      <td>...</td>\n",
       "      <td>0</td>\n",
       "      <td>0</td>\n",
       "      <td>0</td>\n",
       "      <td>0</td>\n",
       "      <td>0</td>\n",
       "      <td>1</td>\n",
       "      <td>1</td>\n",
       "      <td>0</td>\n",
       "      <td>2.533333</td>\n",
       "      <td>-3.000000</td>\n",
       "    </tr>\n",
       "  </tbody>\n",
       "</table>\n",
       "<p>2778 rows × 101 columns</p>\n",
       "</div>"
      ],
      "text/plain": [
       "        id  const  edad  autopercep_izqder  autopercep_conpro  \\\n",
       "0     2792    1.0    67                  6                  8   \n",
       "1     2800    1.0    54                  8                  2   \n",
       "2     2805    1.0    68                 10                 10   \n",
       "3     3148    1.0    50                 10                  2   \n",
       "4     3212    1.0    37                  6                  5   \n",
       "...    ...    ...   ...                ...                ...   \n",
       "2773  7352    1.0    45                 10                 10   \n",
       "2774  7355    1.0    24                  4                  8   \n",
       "2775  7374    1.0    40                 10                  1   \n",
       "2776  7402    1.0    53                  6                  1   \n",
       "2777  7425    1.0    51                  5                  5   \n",
       "\n",
       "      autopercep_perantiper  cercania_Massa  cercania_Bullrich  \\\n",
       "0                        10               1                  4   \n",
       "1                         3               1                  1   \n",
       "2                        10               1                  5   \n",
       "3                        10               1                  3   \n",
       "4                         6               1                  5   \n",
       "...                     ...             ...                ...   \n",
       "2773                     10               1                  3   \n",
       "2774                      1               5                  1   \n",
       "2775                     10               1                  3   \n",
       "2776                     10               1                  1   \n",
       "2777                      1               2                  1   \n",
       "\n",
       "      cercania_Bregman  cercania_Milei  ...  candidato_PASO_2023_Otro  \\\n",
       "0                    1               2  ...                         0   \n",
       "1                    1               3  ...                         0   \n",
       "2                    1               1  ...                         0   \n",
       "3                    1               1  ...                         0   \n",
       "4                    1               3  ...                         0   \n",
       "...                ...             ...  ...                       ...   \n",
       "2773                 1               5  ...                         0   \n",
       "2774                 3               1  ...                         0   \n",
       "2775                 1               5  ...                         0   \n",
       "2776                 1               1  ...                         0   \n",
       "2777                 2               1  ...                         0   \n",
       "\n",
       "      candidato_PASO_2023_Reservado  candidato_PASO_2023_Schiaretti  \\\n",
       "0                                 0                               0   \n",
       "1                                 0                               0   \n",
       "2                                 0                               0   \n",
       "3                                 0                               0   \n",
       "4                                 0                               0   \n",
       "...                             ...                             ...   \n",
       "2773                              0                               0   \n",
       "2774                              0                               0   \n",
       "2775                              0                               0   \n",
       "2776                              0                               0   \n",
       "2777                              0                               0   \n",
       "\n",
       "      votara_2023_Ignora  votara_2023_No  votara_2023_Si  afiliacion_pol_No  \\\n",
       "0                      0               1               0                  1   \n",
       "1                      0               0               1                  1   \n",
       "2                      0               0               1                  1   \n",
       "3                      0               0               1                  1   \n",
       "4                      0               1               0                  1   \n",
       "...                  ...             ...             ...                ...   \n",
       "2773                   0               0               1                  1   \n",
       "2774                   0               0               1                  0   \n",
       "2775                   0               0               1                  1   \n",
       "2776                   0               0               1                  1   \n",
       "2777                   0               0               1                  1   \n",
       "\n",
       "      afiliacion_pol_Si  cambio_op_pro  cambio_op_con  \n",
       "0                     0       0.369048      -1.833333  \n",
       "1                     0      -0.166667       1.011905  \n",
       "2                     0       2.750000       0.683333  \n",
       "3                     0       0.800000      -0.400000  \n",
       "4                     0       1.700000      -0.600000  \n",
       "...                 ...            ...            ...  \n",
       "2773                  0      -1.523810       3.666667  \n",
       "2774                  1      -1.500000      -2.321429  \n",
       "2775                  0      -0.950000       2.400000  \n",
       "2776                  0      -0.375000       2.933333  \n",
       "2777                  0       2.533333      -3.000000  \n",
       "\n",
       "[2778 rows x 101 columns]"
      ]
     },
     "execution_count": 141,
     "metadata": {},
     "output_type": "execute_result"
    }
   ],
   "source": [
    "df_Largo"
   ]
  },
  {
   "cell_type": "code",
   "execution_count": 2,
   "id": "820efc6e-2d5c-4743-b570-d7f20113a916",
   "metadata": {},
   "outputs": [],
   "source": []
  },
  {
   "cell_type": "code",
   "execution_count": null,
   "id": "c5ec99be-e199-49dd-b742-0ef36c34aaf8",
   "metadata": {},
   "outputs": [],
   "source": []
  }
 ],
 "metadata": {
  "kernelspec": {
   "display_name": "Python 3 (ipykernel)",
   "language": "python",
   "name": "python3"
  },
  "language_info": {
   "codemirror_mode": {
    "name": "ipython",
    "version": 3
   },
   "file_extension": ".py",
   "mimetype": "text/x-python",
   "name": "python",
   "nbconvert_exporter": "python",
   "pygments_lexer": "ipython3",
   "version": "3.11.7"
  }
 },
 "nbformat": 4,
 "nbformat_minor": 5
}
