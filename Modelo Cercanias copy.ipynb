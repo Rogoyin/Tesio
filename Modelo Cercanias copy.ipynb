{
 "cells": [
  {
   "cell_type": "code",
   "execution_count": 39,
   "metadata": {},
   "outputs": [],
   "source": [
    "import pandas as pd\n",
    "import numpy as np\n",
    "from sklearn.model_selection import train_test_split\n",
    "from statsmodels.miscmodels.ordinal_model import OrderedModel\n",
    "from sklearn.preprocessing import LabelEncoder\n",
    "import statsmodels.api as sm"
   ]
  },
  {
   "cell_type": "markdown",
   "metadata": {},
   "source": [
    "Importá la base de datos."
   ]
  },
  {
   "cell_type": "code",
   "execution_count": 40,
   "metadata": {},
   "outputs": [],
   "source": [
    "df = pd.read_excel('Databases/1. Generales - Original.xlsx')"
   ]
  },
  {
   "cell_type": "code",
   "execution_count": 41,
   "metadata": {},
   "outputs": [],
   "source": [
    "df = df.rename(columns={'autopercep_izq-der': 'autopercep_izq_der'})"
   ]
  },
  {
   "cell_type": "markdown",
   "metadata": {},
   "source": [
    "Definí las variables independientes y las dependientes. Al ser un modelo ordinal, la variable dependiente debe ser ordinal, o sea, debe tener categorías que pueden ser ordenadas jerárquicamente, como calificaciones (por ejemplo, \"mala\", \"regular\", \"buena\") o niveles de satisfacción (por ejemplo, \"insatisfecho\", \"neutral\", \"satisfecho\") "
   ]
  },
  {
   "cell_type": "code",
   "execution_count": 42,
   "metadata": {},
   "outputs": [],
   "source": [
    "# Variables a explicar.\n",
    "Variables_Dependientes = ['cercania_Massa', \n",
    "                          #'cercania_Milei', \n",
    "                          #'cercania_Bregman', \n",
    "                          #'cercania_Bullrich', \n",
    "                          #'cercania_Schiaretti'\n",
    "                          ]\n",
    "\n",
    "# Variables que influyen en las otras.\n",
    "Variables_Todas = [\n",
    "                            'genero',\n",
    "                             'edad',\n",
    "                            'nacionalidad',\n",
    "                            'provincia',\n",
    "                            'e_social',\n",
    "                            'niv_educativo',\n",
    "                            'voto_2019',\n",
    "                            'voto_PASO_2023',\n",
    "                            'candidato_PASO_2023',\n",
    "                            'autopercep_izq_der',\n",
    "                            'autopercep_conpro',\n",
    "                            'autopercep_perantiper',\n",
    "                            'indice_positividad',\n",
    "                            'massa_ip_izqder',\n",
    "                            'massa_ip_conpro',\n",
    "                             'bullrich_ip_izqder',\n",
    "                             'bullrich_ip_conpro',\n",
    "                            'schiaretti_ip_izqder',\n",
    "                             'schiaretti_ip_conpro',\n",
    "                            'milei_ip_izqder',\n",
    "                            'milei_ip_conpro',\n",
    "                            'bregman_ip_izqder',\n",
    "                            'bregman_ip_conpro',\n",
    "                            'indice_progresismo',\n",
    "                            'indice_conservadurismo'\n",
    "                            ]"
   ]
  },
  {
   "cell_type": "code",
   "execution_count": 43,
   "metadata": {},
   "outputs": [],
   "source": [
    "Variables_Massa = [\n",
    "    'voto_2019',\n",
    "    'autopercep_perantiper',\n",
    "    'massa_ip_conpro',\n",
    "    'indice_conservadurismo',\n",
    "    'massa_ip_izqder',\n",
    "    'edad',\n",
    "    'autopercep_conpro',\n",
    "    'indice_progresismo',\n",
    "    'autopercep_izq_der',\n",
    "    'indice_positividad',\n",
    "    'candidato_PASO_2023',\n",
    "    'schiaretti_ip_conpro',\n",
    "    'schiaretti_ip_izqder'\n",
    "]"
   ]
  },
  {
   "cell_type": "code",
   "execution_count": 44,
   "metadata": {},
   "outputs": [],
   "source": [
    "Variables_Schiaretti = [\n",
    "    'schiaretti_ip_conpro',\n",
    "    'bullrich_ip_izqder',\n",
    "    'indice_conservadurismo',\n",
    "    'provincia',\n",
    "    'massa_ip_izqder',\n",
    "    'schiaretti_ip_izqder',\n",
    "    'candidato_PASO_2023',\n",
    "    'voto_2019',\n",
    "    'indice_progresismo'\n",
    "]"
   ]
  },
  {
   "cell_type": "code",
   "execution_count": 45,
   "metadata": {},
   "outputs": [],
   "source": [
    "Variables_Independientes = Variables_Massa"
   ]
  },
  {
   "cell_type": "code",
   "execution_count": 46,
   "metadata": {},
   "outputs": [],
   "source": [
    "X = df[Variables_Independientes]\n",
    "y = df[Variables_Dependientes]"
   ]
  },
  {
   "cell_type": "code",
   "execution_count": 47,
   "metadata": {},
   "outputs": [
    {
     "name": "stderr",
     "output_type": "stream",
     "text": [
      "C:\\Users\\tomas\\AppData\\Local\\Temp\\ipykernel_10676\\3576202961.py:4: SettingWithCopyWarning: \n",
      "A value is trying to be set on a copy of a slice from a DataFrame.\n",
      "Try using .loc[row_indexer,col_indexer] = value instead\n",
      "\n",
      "See the caveats in the documentation: https://pandas.pydata.org/pandas-docs/stable/user_guide/indexing.html#returning-a-view-versus-a-copy\n",
      "  X[Column] = LabelEncoder().fit_transform(X[Column])\n",
      "C:\\Users\\tomas\\AppData\\Local\\Temp\\ipykernel_10676\\3576202961.py:4: SettingWithCopyWarning: \n",
      "A value is trying to be set on a copy of a slice from a DataFrame.\n",
      "Try using .loc[row_indexer,col_indexer] = value instead\n",
      "\n",
      "See the caveats in the documentation: https://pandas.pydata.org/pandas-docs/stable/user_guide/indexing.html#returning-a-view-versus-a-copy\n",
      "  X[Column] = LabelEncoder().fit_transform(X[Column])\n"
     ]
    }
   ],
   "source": [
    "# Convert categorical independent variables to numerical using LabelEncoder.\n",
    "for Column in Variables_Independientes:\n",
    "    if X[Column].dtype == 'object':\n",
    "        X[Column] = LabelEncoder().fit_transform(X[Column])"
   ]
  },
  {
   "cell_type": "code",
   "execution_count": 48,
   "metadata": {},
   "outputs": [],
   "source": [
    "# Split the data into training and testing sets\n",
    "X_Train, X_Test, y_Train, y_Test = train_test_split(X, y, test_size=0.2, random_state=42)"
   ]
  },
  {
   "cell_type": "code",
   "execution_count": 49,
   "metadata": {},
   "outputs": [
    {
     "name": "stderr",
     "output_type": "stream",
     "text": [
      "C:\\Users\\tomas\\AppData\\Roaming\\Python\\Python312\\site-packages\\statsmodels\\base\\optimizer.py:737: RuntimeWarning: Maximum number of iterations has been exceeded.\n",
      "  retvals = optimize.fmin(f, start_params, args=fargs, xtol=xtol,\n",
      "C:\\Users\\tomas\\AppData\\Roaming\\Python\\Python312\\site-packages\\statsmodels\\base\\model.py:607: ConvergenceWarning: Maximum Likelihood optimization failed to converge. Check mle_retvals\n",
      "  warnings.warn(\"Maximum Likelihood optimization failed to \"\n"
     ]
    }
   ],
   "source": [
    "# Ajustar el modelo de regresión logística ordinal sin añadir la constante manualmente.\n",
    "Ordinal_Model = OrderedModel(y_Train, X_Train, distr='logit')\n",
    "Ordinal_Result = Ordinal_Model.fit()"
   ]
  },
  {
   "cell_type": "code",
   "execution_count": 50,
   "metadata": {},
   "outputs": [],
   "source": [
    "# Verificar la linealidad en el logit (probar la inclusión de términos cuadráticos).\n",
    "X_Train['edad_sq'] = X_Train['edad'] ** 2  # Ejemplo con la variable 'edad'."
   ]
  },
  {
   "cell_type": "code",
   "execution_count": 51,
   "metadata": {},
   "outputs": [
    {
     "name": "stderr",
     "output_type": "stream",
     "text": [
      "C:\\Users\\tomas\\AppData\\Roaming\\Python\\Python312\\site-packages\\statsmodels\\base\\optimizer.py:737: RuntimeWarning: Maximum number of iterations has been exceeded.\n",
      "  retvals = optimize.fmin(f, start_params, args=fargs, xtol=xtol,\n",
      "C:\\Users\\tomas\\AppData\\Roaming\\Python\\Python312\\site-packages\\statsmodels\\base\\model.py:607: ConvergenceWarning: Maximum Likelihood optimization failed to converge. Check mle_retvals\n",
      "  warnings.warn(\"Maximum Likelihood optimization failed to \"\n"
     ]
    }
   ],
   "source": [
    "# Ajustar el modelo con término cuadrático.\n",
    "Ordinal_Model_Non_Linear = OrderedModel(y_Train, X_Train, distr='logit')\n",
    "Ordinal_Result_Non_Linear = Ordinal_Model_Non_Linear.fit()"
   ]
  },
  {
   "cell_type": "code",
   "execution_count": 52,
   "metadata": {},
   "outputs": [
    {
     "name": "stdout",
     "output_type": "stream",
     "text": [
      "                             OrderedModel Results                             \n",
      "==============================================================================\n",
      "Dep. Variable:         cercania_Massa   Log-Likelihood:                -2932.0\n",
      "Model:                   OrderedModel   AIC:                             5900.\n",
      "Method:            Maximum Likelihood   BIC:                             6003.\n",
      "Date:                Mon, 14 Oct 2024                                         \n",
      "Time:                        17:24:01                                         \n",
      "No. Observations:                2271                                         \n",
      "Df Residuals:                    2253                                         \n",
      "Df Model:                          14                                         \n",
      "==========================================================================================\n",
      "                             coef    std err          z      P>|z|      [0.025      0.975]\n",
      "------------------------------------------------------------------------------------------\n",
      "voto_2019                 -0.0851      0.018     -4.673      0.000      -0.121      -0.049\n",
      "autopercep_perantiper     -0.3340      0.020    -16.352      0.000      -0.374      -0.294\n",
      "massa_ip_conpro            0.0465      0.023      2.049      0.040       0.002       0.091\n",
      "indice_conservadurismo    -0.0048      0.101     -0.048      0.962      -0.203       0.194\n",
      "massa_ip_izqder            0.0978      0.023      4.211      0.000       0.052       0.143\n",
      "edad                      -0.0148      0.020     -0.721      0.471      -0.055       0.025\n",
      "autopercep_conpro          0.0836      0.021      3.991      0.000       0.043       0.125\n",
      "indice_progresismo         0.0488      0.077      0.631      0.528      -0.103       0.200\n",
      "autopercep_izq_der        -0.0162      0.028     -0.581      0.561      -0.071       0.038\n",
      "indice_positividad         0.0372      0.126      0.295      0.768      -0.210       0.284\n",
      "candidato_PASO_2023       -0.0134      0.007     -1.986      0.047      -0.027      -0.000\n",
      "schiaretti_ip_conpro       0.0178      0.022      0.798      0.425      -0.026       0.061\n",
      "schiaretti_ip_izqder       0.0056      0.026      0.218      0.828      -0.045       0.056\n",
      "edad_sq                   -0.0002      0.000     -0.809      0.418      -0.001       0.000\n",
      "1/2                       -2.1841      0.671     -3.254      0.001      -3.500      -0.869\n",
      "2/3                       -0.2523      0.058     -4.362      0.000      -0.366      -0.139\n",
      "3/4                        0.4046      0.038     10.696      0.000       0.330       0.479\n",
      "4/5                        0.0384      0.055      0.693      0.488      -0.070       0.147\n",
      "==========================================================================================\n"
     ]
    }
   ],
   "source": [
    "# Resumen del modelo ajustado para verificar los coeficientes de los términos.\n",
    "print(Ordinal_Result_Non_Linear.summary())"
   ]
  },
  {
   "cell_type": "code",
   "execution_count": 53,
   "metadata": {},
   "outputs": [],
   "source": [
    "# Realizar predicciones en el set de prueba.\n",
    "Predictions = Ordinal_Result.predict(X_Test)"
   ]
  },
  {
   "cell_type": "code",
   "execution_count": 54,
   "metadata": {},
   "outputs": [],
   "source": [
    "# Verificar la proporcionalidad de las odds comparando con un modelo multinomial.\n",
    "from statsmodels.formula.api import mnlogit"
   ]
  },
  {
   "cell_type": "code",
   "execution_count": 55,
   "metadata": {},
   "outputs": [
    {
     "name": "stdout",
     "output_type": "stream",
     "text": [
      "Optimization terminated successfully.\n",
      "         Current function value: nan\n",
      "         Iterations 17\n"
     ]
    },
    {
     "name": "stderr",
     "output_type": "stream",
     "text": [
      "C:\\Users\\tomas\\AppData\\Roaming\\Python\\Python312\\site-packages\\statsmodels\\discrete\\discrete_model.py:3027: RuntimeWarning: overflow encountered in exp\n",
      "  eXB = np.column_stack((np.ones(len(X)), np.exp(X)))\n",
      "C:\\Users\\tomas\\AppData\\Roaming\\Python\\Python312\\site-packages\\statsmodels\\discrete\\discrete_model.py:3028: RuntimeWarning: invalid value encountered in divide\n",
      "  return eXB/eXB.sum(1)[:,None]\n"
     ]
    },
    {
     "name": "stdout",
     "output_type": "stream",
     "text": [
      "                          MNLogit Regression Results                          \n",
      "==============================================================================\n",
      "Dep. Variable:         cercania_Massa   No. Observations:                 2839\n",
      "Model:                        MNLogit   Df Residuals:                     2679\n",
      "Method:                           MLE   Df Model:                          156\n",
      "Date:                Mon, 14 Oct 2024   Pseudo R-squ.:                     nan\n",
      "Time:                        17:24:01   Log-Likelihood:                    nan\n",
      "converged:                       True   LL-Null:                       -4320.1\n",
      "Covariance Type:            nonrobust   LLR p-value:                       nan\n",
      "====================================================================================================================\n",
      "                                cercania_Massa=2       coef    std err          z      P>|z|      [0.025      0.975]\n",
      "--------------------------------------------------------------------------------------------------------------------\n",
      "Intercept                                               nan        nan        nan        nan         nan         nan\n",
      "voto_2019[T.J. Gomez Centurión]                         nan        nan        nan        nan         nan         nan\n",
      "voto_2019[T.J.L. Espert]                                nan        nan        nan        nan         nan         nan\n",
      "voto_2019[T.Mauricio Macri]                             nan        nan        nan        nan         nan         nan\n",
      "voto_2019[T.Nicolás Del Caño]                           nan        nan        nan        nan         nan         nan\n",
      "voto_2019[T.Roberto Lavagna]                            nan        nan        nan        nan         nan         nan\n",
      "voto_2019[T.Voto en blanco]                             nan        nan        nan        nan         nan         nan\n",
      "voto_2019[T.no vote]                                    nan        nan        nan        nan         nan         nan\n",
      "voto_2019[T.prefiero no decirlo]                        nan        nan        nan        nan         nan         nan\n",
      "candidato_PASO_2023[T.Guillermo Moreno]                 nan        nan        nan        nan         nan         nan\n",
      "candidato_PASO_2023[T.Horacio Rodriguez Larreta]        nan        nan        nan        nan         nan         nan\n",
      "candidato_PASO_2023[T.Javier Milei]                     nan        nan        nan        nan         nan         nan\n",
      "candidato_PASO_2023[T.Jesús Escobar]                    nan        nan        nan        nan         nan         nan\n",
      "candidato_PASO_2023[T.Juan Grabois]                     nan        nan        nan        nan         nan         nan\n",
      "candidato_PASO_2023[T.Juan Schiaretti]                  nan        nan        nan        nan         nan         nan\n",
      "candidato_PASO_2023[T.Julio Bárbaro]                    nan        nan        nan        nan         nan         nan\n",
      "candidato_PASO_2023[T.Manuela Castañeira]               nan        nan        nan        nan         nan         nan\n",
      "candidato_PASO_2023[T.Marcelo Ramal]                    nan        nan        nan        nan         nan         nan\n",
      "candidato_PASO_2023[T.Mempo Giardinelli]                nan        nan        nan        nan         nan         nan\n",
      "candidato_PASO_2023[T.Myriam Bregman]                   nan        nan        nan        nan         nan         nan\n",
      "candidato_PASO_2023[T.Nazareno Etchepare]               nan        nan        nan        nan         nan         nan\n",
      "candidato_PASO_2023[T.Patricia Bullrich]                nan        nan        nan        nan         nan         nan\n",
      "candidato_PASO_2023[T.Prefiero no decirlo]              nan        nan        nan        nan         nan         nan\n",
      "candidato_PASO_2023[T.Santiago Cuneo]                   nan        nan        nan        nan         nan         nan\n",
      "candidato_PASO_2023[T.Sergio Massa]                     nan        nan        nan        nan         nan         nan\n",
      "candidato_PASO_2023[T.Voto en blanco]                   nan        nan        nan        nan         nan         nan\n",
      "candidato_PASO_2023[T.no aplica]                        nan        nan        nan        nan         nan         nan\n",
      "candidato_PASO_2023[T.votoPASO2023no]                   nan        nan        nan        nan         nan         nan\n",
      "candidato_PASO_2023[T.votoPASO2023si]                   nan        nan        nan        nan         nan         nan\n",
      "autopercep_perantiper                                   nan        nan        nan        nan         nan         nan\n",
      "massa_ip_conpro                                         nan        nan        nan        nan         nan         nan\n",
      "indice_conservadurismo                                  nan        nan        nan        nan         nan         nan\n",
      "massa_ip_izqder                                         nan        nan        nan        nan         nan         nan\n",
      "edad                                                    nan        nan        nan        nan         nan         nan\n",
      "autopercep_conpro                                       nan        nan        nan        nan         nan         nan\n",
      "indice_progresismo                                      nan        nan        nan        nan         nan         nan\n",
      "autopercep_izq_der                                      nan        nan        nan        nan         nan         nan\n",
      "indice_positividad                                      nan        nan        nan        nan         nan         nan\n",
      "schiaretti_ip_conpro                                    nan        nan        nan        nan         nan         nan\n",
      "schiaretti_ip_izqder                                    nan        nan        nan        nan         nan         nan\n",
      "--------------------------------------------------------------------------------------------------------------------\n",
      "                                cercania_Massa=3       coef    std err          z      P>|z|      [0.025      0.975]\n",
      "--------------------------------------------------------------------------------------------------------------------\n",
      "Intercept                                               nan        nan        nan        nan         nan         nan\n",
      "voto_2019[T.J. Gomez Centurión]                         nan        nan        nan        nan         nan         nan\n",
      "voto_2019[T.J.L. Espert]                                nan        nan        nan        nan         nan         nan\n",
      "voto_2019[T.Mauricio Macri]                             nan        nan        nan        nan         nan         nan\n",
      "voto_2019[T.Nicolás Del Caño]                           nan        nan        nan        nan         nan         nan\n",
      "voto_2019[T.Roberto Lavagna]                            nan        nan        nan        nan         nan         nan\n",
      "voto_2019[T.Voto en blanco]                             nan        nan        nan        nan         nan         nan\n",
      "voto_2019[T.no vote]                                    nan        nan        nan        nan         nan         nan\n",
      "voto_2019[T.prefiero no decirlo]                        nan        nan        nan        nan         nan         nan\n",
      "candidato_PASO_2023[T.Guillermo Moreno]                 nan        nan        nan        nan         nan         nan\n",
      "candidato_PASO_2023[T.Horacio Rodriguez Larreta]        nan        nan        nan        nan         nan         nan\n",
      "candidato_PASO_2023[T.Javier Milei]                     nan        nan        nan        nan         nan         nan\n",
      "candidato_PASO_2023[T.Jesús Escobar]                    nan        nan        nan        nan         nan         nan\n",
      "candidato_PASO_2023[T.Juan Grabois]                     nan        nan        nan        nan         nan         nan\n",
      "candidato_PASO_2023[T.Juan Schiaretti]                  nan        nan        nan        nan         nan         nan\n",
      "candidato_PASO_2023[T.Julio Bárbaro]                    nan        nan        nan        nan         nan         nan\n",
      "candidato_PASO_2023[T.Manuela Castañeira]               nan        nan        nan        nan         nan         nan\n",
      "candidato_PASO_2023[T.Marcelo Ramal]                    nan        nan        nan        nan         nan         nan\n",
      "candidato_PASO_2023[T.Mempo Giardinelli]                nan        nan        nan        nan         nan         nan\n",
      "candidato_PASO_2023[T.Myriam Bregman]                   nan        nan        nan        nan         nan         nan\n",
      "candidato_PASO_2023[T.Nazareno Etchepare]               nan        nan        nan        nan         nan         nan\n",
      "candidato_PASO_2023[T.Patricia Bullrich]                nan        nan        nan        nan         nan         nan\n",
      "candidato_PASO_2023[T.Prefiero no decirlo]              nan        nan        nan        nan         nan         nan\n",
      "candidato_PASO_2023[T.Santiago Cuneo]                   nan        nan        nan        nan         nan         nan\n",
      "candidato_PASO_2023[T.Sergio Massa]                     nan        nan        nan        nan         nan         nan\n",
      "candidato_PASO_2023[T.Voto en blanco]                   nan        nan        nan        nan         nan         nan\n",
      "candidato_PASO_2023[T.no aplica]                        nan        nan        nan        nan         nan         nan\n",
      "candidato_PASO_2023[T.votoPASO2023no]                   nan        nan        nan        nan         nan         nan\n",
      "candidato_PASO_2023[T.votoPASO2023si]                   nan        nan        nan        nan         nan         nan\n",
      "autopercep_perantiper                                   nan        nan        nan        nan         nan         nan\n",
      "massa_ip_conpro                                         nan        nan        nan        nan         nan         nan\n",
      "indice_conservadurismo                                  nan        nan        nan        nan         nan         nan\n",
      "massa_ip_izqder                                         nan        nan        nan        nan         nan         nan\n",
      "edad                                                    nan        nan        nan        nan         nan         nan\n",
      "autopercep_conpro                                       nan        nan        nan        nan         nan         nan\n",
      "indice_progresismo                                      nan        nan        nan        nan         nan         nan\n",
      "autopercep_izq_der                                      nan        nan        nan        nan         nan         nan\n",
      "indice_positividad                                      nan        nan        nan        nan         nan         nan\n",
      "schiaretti_ip_conpro                                    nan        nan        nan        nan         nan         nan\n",
      "schiaretti_ip_izqder                                    nan        nan        nan        nan         nan         nan\n",
      "--------------------------------------------------------------------------------------------------------------------\n",
      "                                cercania_Massa=4       coef    std err          z      P>|z|      [0.025      0.975]\n",
      "--------------------------------------------------------------------------------------------------------------------\n",
      "Intercept                                               nan        nan        nan        nan         nan         nan\n",
      "voto_2019[T.J. Gomez Centurión]                         nan        nan        nan        nan         nan         nan\n",
      "voto_2019[T.J.L. Espert]                                nan        nan        nan        nan         nan         nan\n",
      "voto_2019[T.Mauricio Macri]                             nan        nan        nan        nan         nan         nan\n",
      "voto_2019[T.Nicolás Del Caño]                           nan        nan        nan        nan         nan         nan\n",
      "voto_2019[T.Roberto Lavagna]                            nan        nan        nan        nan         nan         nan\n",
      "voto_2019[T.Voto en blanco]                             nan        nan        nan        nan         nan         nan\n",
      "voto_2019[T.no vote]                                    nan        nan        nan        nan         nan         nan\n",
      "voto_2019[T.prefiero no decirlo]                        nan        nan        nan        nan         nan         nan\n",
      "candidato_PASO_2023[T.Guillermo Moreno]                 nan        nan        nan        nan         nan         nan\n",
      "candidato_PASO_2023[T.Horacio Rodriguez Larreta]        nan        nan        nan        nan         nan         nan\n",
      "candidato_PASO_2023[T.Javier Milei]                     nan        nan        nan        nan         nan         nan\n",
      "candidato_PASO_2023[T.Jesús Escobar]                    nan        nan        nan        nan         nan         nan\n",
      "candidato_PASO_2023[T.Juan Grabois]                     nan        nan        nan        nan         nan         nan\n",
      "candidato_PASO_2023[T.Juan Schiaretti]                  nan        nan        nan        nan         nan         nan\n",
      "candidato_PASO_2023[T.Julio Bárbaro]                    nan        nan        nan        nan         nan         nan\n",
      "candidato_PASO_2023[T.Manuela Castañeira]               nan        nan        nan        nan         nan         nan\n",
      "candidato_PASO_2023[T.Marcelo Ramal]                    nan        nan        nan        nan         nan         nan\n",
      "candidato_PASO_2023[T.Mempo Giardinelli]                nan        nan        nan        nan         nan         nan\n",
      "candidato_PASO_2023[T.Myriam Bregman]                   nan        nan        nan        nan         nan         nan\n",
      "candidato_PASO_2023[T.Nazareno Etchepare]               nan        nan        nan        nan         nan         nan\n",
      "candidato_PASO_2023[T.Patricia Bullrich]                nan        nan        nan        nan         nan         nan\n",
      "candidato_PASO_2023[T.Prefiero no decirlo]              nan        nan        nan        nan         nan         nan\n",
      "candidato_PASO_2023[T.Santiago Cuneo]                   nan        nan        nan        nan         nan         nan\n",
      "candidato_PASO_2023[T.Sergio Massa]                     nan        nan        nan        nan         nan         nan\n",
      "candidato_PASO_2023[T.Voto en blanco]                   nan        nan        nan        nan         nan         nan\n",
      "candidato_PASO_2023[T.no aplica]                        nan        nan        nan        nan         nan         nan\n",
      "candidato_PASO_2023[T.votoPASO2023no]                   nan        nan        nan        nan         nan         nan\n",
      "candidato_PASO_2023[T.votoPASO2023si]                   nan        nan        nan        nan         nan         nan\n",
      "autopercep_perantiper                                   nan        nan        nan        nan         nan         nan\n",
      "massa_ip_conpro                                         nan        nan        nan        nan         nan         nan\n",
      "indice_conservadurismo                                  nan        nan        nan        nan         nan         nan\n",
      "massa_ip_izqder                                         nan        nan        nan        nan         nan         nan\n",
      "edad                                                    nan        nan        nan        nan         nan         nan\n",
      "autopercep_conpro                                       nan        nan        nan        nan         nan         nan\n",
      "indice_progresismo                                      nan        nan        nan        nan         nan         nan\n",
      "autopercep_izq_der                                      nan        nan        nan        nan         nan         nan\n",
      "indice_positividad                                      nan        nan        nan        nan         nan         nan\n",
      "schiaretti_ip_conpro                                    nan        nan        nan        nan         nan         nan\n",
      "schiaretti_ip_izqder                                    nan        nan        nan        nan         nan         nan\n",
      "--------------------------------------------------------------------------------------------------------------------\n",
      "                                cercania_Massa=5       coef    std err          z      P>|z|      [0.025      0.975]\n",
      "--------------------------------------------------------------------------------------------------------------------\n",
      "Intercept                                               nan        nan        nan        nan         nan         nan\n",
      "voto_2019[T.J. Gomez Centurión]                         nan        nan        nan        nan         nan         nan\n",
      "voto_2019[T.J.L. Espert]                                nan        nan        nan        nan         nan         nan\n",
      "voto_2019[T.Mauricio Macri]                             nan        nan        nan        nan         nan         nan\n",
      "voto_2019[T.Nicolás Del Caño]                           nan        nan        nan        nan         nan         nan\n",
      "voto_2019[T.Roberto Lavagna]                            nan        nan        nan        nan         nan         nan\n",
      "voto_2019[T.Voto en blanco]                             nan        nan        nan        nan         nan         nan\n",
      "voto_2019[T.no vote]                                    nan        nan        nan        nan         nan         nan\n",
      "voto_2019[T.prefiero no decirlo]                        nan        nan        nan        nan         nan         nan\n",
      "candidato_PASO_2023[T.Guillermo Moreno]                 nan        nan        nan        nan         nan         nan\n",
      "candidato_PASO_2023[T.Horacio Rodriguez Larreta]        nan        nan        nan        nan         nan         nan\n",
      "candidato_PASO_2023[T.Javier Milei]                     nan        nan        nan        nan         nan         nan\n",
      "candidato_PASO_2023[T.Jesús Escobar]                    nan        nan        nan        nan         nan         nan\n",
      "candidato_PASO_2023[T.Juan Grabois]                     nan        nan        nan        nan         nan         nan\n",
      "candidato_PASO_2023[T.Juan Schiaretti]                  nan        nan        nan        nan         nan         nan\n",
      "candidato_PASO_2023[T.Julio Bárbaro]                    nan        nan        nan        nan         nan         nan\n",
      "candidato_PASO_2023[T.Manuela Castañeira]               nan        nan        nan        nan         nan         nan\n",
      "candidato_PASO_2023[T.Marcelo Ramal]                    nan        nan        nan        nan         nan         nan\n",
      "candidato_PASO_2023[T.Mempo Giardinelli]                nan        nan        nan        nan         nan         nan\n",
      "candidato_PASO_2023[T.Myriam Bregman]                   nan        nan        nan        nan         nan         nan\n",
      "candidato_PASO_2023[T.Nazareno Etchepare]               nan        nan        nan        nan         nan         nan\n",
      "candidato_PASO_2023[T.Patricia Bullrich]                nan        nan        nan        nan         nan         nan\n",
      "candidato_PASO_2023[T.Prefiero no decirlo]              nan        nan        nan        nan         nan         nan\n",
      "candidato_PASO_2023[T.Santiago Cuneo]                   nan        nan        nan        nan         nan         nan\n",
      "candidato_PASO_2023[T.Sergio Massa]                     nan        nan        nan        nan         nan         nan\n",
      "candidato_PASO_2023[T.Voto en blanco]                   nan        nan        nan        nan         nan         nan\n",
      "candidato_PASO_2023[T.no aplica]                        nan        nan        nan        nan         nan         nan\n",
      "candidato_PASO_2023[T.votoPASO2023no]                   nan        nan        nan        nan         nan         nan\n",
      "candidato_PASO_2023[T.votoPASO2023si]                   nan        nan        nan        nan         nan         nan\n",
      "autopercep_perantiper                                   nan        nan        nan        nan         nan         nan\n",
      "massa_ip_conpro                                         nan        nan        nan        nan         nan         nan\n",
      "indice_conservadurismo                                  nan        nan        nan        nan         nan         nan\n",
      "massa_ip_izqder                                         nan        nan        nan        nan         nan         nan\n",
      "edad                                                    nan        nan        nan        nan         nan         nan\n",
      "autopercep_conpro                                       nan        nan        nan        nan         nan         nan\n",
      "indice_progresismo                                      nan        nan        nan        nan         nan         nan\n",
      "autopercep_izq_der                                      nan        nan        nan        nan         nan         nan\n",
      "indice_positividad                                      nan        nan        nan        nan         nan         nan\n",
      "schiaretti_ip_conpro                                    nan        nan        nan        nan         nan         nan\n",
      "schiaretti_ip_izqder                                    nan        nan        nan        nan         nan         nan\n",
      "====================================================================================================================\n"
     ]
    }
   ],
   "source": [
    "# Ajustar un modelo de regresión logística multinomial para comparación.\n",
    "Multinomial_Model = mnlogit('cercania_Massa ~ ' + ' + '.join(Variables_Independientes), df)\n",
    "Multinomial_Result = Multinomial_Model.fit()\n",
    "\n",
    "# Mostrar el resumen del modelo multinomial para la comparación.\n",
    "print(Multinomial_Result.summary())"
   ]
  },
  {
   "cell_type": "code",
   "execution_count": 56,
   "metadata": {},
   "outputs": [
    {
     "name": "stdout",
     "output_type": "stream",
     "text": [
      "id                     0\n",
      "url_exp_id             0\n",
      "url_environment        0\n",
      "url_test_version       0\n",
      "exp_id                 0\n",
      "                      ..\n",
      "horassueñopromedio     0\n",
      "sueñonocheanterior     0\n",
      "windowresolutionend    0\n",
      "total                  0\n",
      "result_165             0\n",
      "Length: 270, dtype: int64\n"
     ]
    }
   ],
   "source": [
    "# Revisa si hay valores NaN en el dataset\n",
    "print(df.isnull().sum())"
   ]
  },
  {
   "cell_type": "code",
   "execution_count": 57,
   "metadata": {},
   "outputs": [
    {
     "name": "stdout",
     "output_type": "stream",
     "text": [
      "voto_2019\n",
      "Alberto Fernandez      1568\n",
      "Mauricio Macri          455\n",
      "Nicolás Del Caño        286\n",
      "no vote                 219\n",
      "Voto en blanco           95\n",
      "Roberto Lavagna          84\n",
      "prefiero no decirlo      73\n",
      "J.L. Espert              48\n",
      "J. Gomez Centurión       11\n",
      "Name: count, dtype: int64\n",
      "candidato_PASO_2023\n",
      "Sergio Massa                 665\n",
      "Juan Grabois                 579\n",
      "Myriam Bregman               386\n",
      "no aplica                    332\n",
      "Patricia Bullrich            215\n",
      "Horacio Rodriguez Larreta    210\n",
      "Javier Milei                 187\n",
      "Juan Schiaretti               84\n",
      "Voto en blanco                67\n",
      "Guillermo Moreno              33\n",
      "Prefiero no decirlo           24\n",
      "Gabriel Solano                22\n",
      "Manuela Castañeira            21\n",
      "Marcelo Ramal                  4\n",
      "Jesús Escobar                  3\n",
      "Julio Bárbaro                  2\n",
      "Mempo Giardinelli              1\n",
      "Santiago Cuneo                 1\n",
      "votoPASO2023si                 1\n",
      "votoPASO2023no                 1\n",
      "Nazareno Etchepare             1\n",
      "Name: count, dtype: int64\n"
     ]
    }
   ],
   "source": [
    "# Revisa el conteo de valores por categoría\n",
    "print(df['voto_2019'].value_counts())\n",
    "print(df['candidato_PASO_2023'].value_counts())"
   ]
  },
  {
   "cell_type": "code",
   "execution_count": null,
   "metadata": {},
   "outputs": [],
   "source": []
  }
 ],
 "metadata": {
  "kernelspec": {
   "display_name": "Python 3",
   "language": "python",
   "name": "python3"
  },
  "language_info": {
   "codemirror_mode": {
    "name": "ipython",
    "version": 3
   },
   "file_extension": ".py",
   "mimetype": "text/x-python",
   "name": "python",
   "nbconvert_exporter": "python",
   "pygments_lexer": "ipython3",
   "version": "3.12.6"
  }
 },
 "nbformat": 4,
 "nbformat_minor": 2
}
