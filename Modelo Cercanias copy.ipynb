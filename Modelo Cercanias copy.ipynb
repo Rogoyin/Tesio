{
 "cells": [
  {
   "cell_type": "markdown",
   "metadata": {},
   "source": [
    "Se importan las bibliotecas necesarias para el análisis de datos, manipulación de datos, y creación de modelos estadísticos."
   ]
  },
  {
   "cell_type": "code",
   "execution_count": 1,
   "metadata": {},
   "outputs": [],
   "source": [
    "import pandas as pd\n",
    "import numpy as np\n",
    "from sklearn.model_selection import train_test_split\n",
    "from statsmodels.miscmodels.ordinal_model import OrderedModel\n",
    "from sklearn.preprocessing import LabelEncoder\n",
    "import statsmodels.api as sm"
   ]
  },
  {
   "cell_type": "markdown",
   "metadata": {},
   "source": [
    "Se carga el archivo de Excel en un DataFrame de pandas."
   ]
  },
  {
   "cell_type": "code",
   "execution_count": 2,
   "metadata": {},
   "outputs": [],
   "source": [
    "df = pd.read_excel('Databases/1. Generales - Original.xlsx')"
   ]
  },
  {
   "cell_type": "markdown",
   "metadata": {},
   "source": [
    "Se renombra una columna para evitar problemas con el nombre."
   ]
  },
  {
   "cell_type": "code",
   "execution_count": 3,
   "metadata": {},
   "outputs": [],
   "source": [
    "df = df.rename(columns={'autopercep_izq-der': 'autopercep_izq_der'})"
   ]
  },
  {
   "cell_type": "markdown",
   "metadata": {},
   "source": [
    "Se definen las variables dependientes (la variable que se quiere predecir) y las variables independientes (las que influyen en la dependiente). Al ser un modelo ordinal, la variable dependiente debe ser ordinal, o sea, debe tener categorías que pueden ser ordenadas jerárquicamente, como calificaciones (por ejemplo, \"mala\", \"regular\", \"buena\") o niveles de satisfacción (por ejemplo, \"insatisfecho\", \"neutral\", \"satisfecho\") "
   ]
  },
  {
   "cell_type": "code",
   "execution_count": 4,
   "metadata": {},
   "outputs": [],
   "source": [
    "# Variables a explicar.\n",
    "Variables_Dependientes = ['cercania_Massa', \n",
    "                          #'cercania_Milei', \n",
    "                          #'cercania_Bregman', \n",
    "                          #'cercania_Bullrich', \n",
    "                          #'cercania_Schiaretti'\n",
    "                          ]\n",
    "\n",
    "# Variables que influyen en las otras.\n",
    "Variables_Todas = [\n",
    "                            # 'genero',\n",
    "                            # 'edad',\n",
    "                            # 'nacionalidad',\n",
    "                            # 'provincia',\n",
    "                            'e_social',\n",
    "                            # 'niv_educativo',\n",
    "                            'voto_2019',\n",
    "                            # 'voto_PASO_2023',\n",
    "                            'candidato_PASO_2023',\n",
    "                            # 'autopercep_izq_der',\n",
    "                            # 'autopercep_conpro',\n",
    "                            # 'autopercep_perantiper',\n",
    "                            'indice_positividad',\n",
    "                            'massa_ip_izqder',\n",
    "                            'massa_ip_conpro',\n",
    "                            # 'bullrich_ip_izqder',\n",
    "                            # 'bullrich_ip_conpro',\n",
    "                            # 'schiaretti_ip_izqder',\n",
    "                            # 'schiaretti_ip_conpro',\n",
    "                            # 'milei_ip_izqder',\n",
    "                            # 'milei_ip_conpro',\n",
    "                            # 'bregman_ip_izqder',\n",
    "                            # 'bregman_ip_conpro',\n",
    "                            # 'indice_progresismo',\n",
    "                            # 'indice_conservadurismo'\n",
    "                            ]"
   ]
  },
  {
   "cell_type": "markdown",
   "metadata": {},
   "source": [
    "Se crea una lista de variables que se utilizarán para el análisis de un candidato específico (Massa)."
   ]
  },
  {
   "cell_type": "code",
   "execution_count": 5,
   "metadata": {},
   "outputs": [],
   "source": [
    "Variables_Massa = [\n",
    "    'voto_2019',\n",
    "    'autopercep_perantiper',\n",
    "    'massa_ip_conpro',\n",
    "    #'indice_conservadurismo',\n",
    "    #'massa_ip_izqder',\n",
    "    #'edad',\n",
    "    'autopercep_conpro',\n",
    "    #'indice_progresismo',\n",
    "    #'autopercep_izq_der',\n",
    "    #'indice_positividad',\n",
    "    'candidato_PASO_2023',\n",
    "    #'schiaretti_ip_conpro',\n",
    "    #'schiaretti_ip_izqder'\n",
    "]"
   ]
  },
  {
   "cell_type": "code",
   "execution_count": 6,
   "metadata": {},
   "outputs": [],
   "source": [
    "Variables_Independientes = Variables_Massa"
   ]
  },
  {
   "cell_type": "markdown",
   "metadata": {},
   "source": [
    "Se asignan las variables independientes a X y la variable dependiente a y."
   ]
  },
  {
   "cell_type": "code",
   "execution_count": 7,
   "metadata": {},
   "outputs": [],
   "source": [
    "X = df[Variables_Independientes]\n",
    "y = df[Variables_Dependientes]"
   ]
  },
  {
   "cell_type": "markdown",
   "metadata": {},
   "source": [
    "Se convierte cualquier variable categórica en variables numéricas usando LabelEncoder. Esto es necesario porque muchos modelos estadísticos requieren entradas numéricas."
   ]
  },
  {
   "cell_type": "code",
   "execution_count": 8,
   "metadata": {},
   "outputs": [
    {
     "name": "stderr",
     "output_type": "stream",
     "text": [
      "C:\\Users\\tomas\\AppData\\Local\\Temp\\ipykernel_9204\\3576202961.py:4: SettingWithCopyWarning: \n",
      "A value is trying to be set on a copy of a slice from a DataFrame.\n",
      "Try using .loc[row_indexer,col_indexer] = value instead\n",
      "\n",
      "See the caveats in the documentation: https://pandas.pydata.org/pandas-docs/stable/user_guide/indexing.html#returning-a-view-versus-a-copy\n",
      "  X[Column] = LabelEncoder().fit_transform(X[Column])\n",
      "C:\\Users\\tomas\\AppData\\Local\\Temp\\ipykernel_9204\\3576202961.py:4: SettingWithCopyWarning: \n",
      "A value is trying to be set on a copy of a slice from a DataFrame.\n",
      "Try using .loc[row_indexer,col_indexer] = value instead\n",
      "\n",
      "See the caveats in the documentation: https://pandas.pydata.org/pandas-docs/stable/user_guide/indexing.html#returning-a-view-versus-a-copy\n",
      "  X[Column] = LabelEncoder().fit_transform(X[Column])\n"
     ]
    }
   ],
   "source": [
    "# Convert categorical independent variables to numerical using LabelEncoder.\n",
    "for Column in Variables_Independientes:\n",
    "    if X[Column].dtype == 'object':\n",
    "        X[Column] = LabelEncoder().fit_transform(X[Column])"
   ]
  },
  {
   "cell_type": "markdown",
   "metadata": {},
   "source": [
    "Los datos se dividen en un conjunto de entrenamiento (80%) y un conjunto de prueba (20%) para poder evaluar el modelo posteriormente."
   ]
  },
  {
   "cell_type": "code",
   "execution_count": 9,
   "metadata": {},
   "outputs": [],
   "source": [
    "# Split the data into training and testing sets.\n",
    "X_Train, X_Test, y_Train, y_Test = train_test_split(X, y, test_size=0.2, random_state=42)"
   ]
  },
  {
   "cell_type": "markdown",
   "metadata": {},
   "source": [
    "Se ajusta un modelo de regresión logística ordinal a los datos de entrenamiento. Esto es apropiado ya que la variable dependiente es ordinal."
   ]
  },
  {
   "cell_type": "code",
   "execution_count": 10,
   "metadata": {},
   "outputs": [
    {
     "name": "stderr",
     "output_type": "stream",
     "text": [
      "C:\\Users\\tomas\\AppData\\Roaming\\Python\\Python312\\site-packages\\statsmodels\\base\\optimizer.py:737: RuntimeWarning: Maximum number of iterations has been exceeded.\n",
      "  retvals = optimize.fmin(f, start_params, args=fargs, xtol=xtol,\n",
      "C:\\Users\\tomas\\AppData\\Roaming\\Python\\Python312\\site-packages\\statsmodels\\base\\model.py:607: ConvergenceWarning: Maximum Likelihood optimization failed to converge. Check mle_retvals\n",
      "  warnings.warn(\"Maximum Likelihood optimization failed to \"\n"
     ]
    }
   ],
   "source": [
    "# Ajustar el modelo de regresión logística ordinal sin añadir la constante manualmente.\n",
    "Ordinal_Model = OrderedModel(y_Train, X_Train, distr='logit')\n",
    "Ordinal_Result = Ordinal_Model.fit()"
   ]
  },
  {
   "cell_type": "markdown",
   "metadata": {},
   "source": [
    "Se imprime un resumen del modelo no lineal ajustado para revisar los coeficientes y la significancia estadística."
   ]
  },
  {
   "cell_type": "code",
   "execution_count": 11,
   "metadata": {},
   "outputs": [
    {
     "name": "stdout",
     "output_type": "stream",
     "text": [
      "                             OrderedModel Results                             \n",
      "==============================================================================\n",
      "Dep. Variable:         cercania_Massa   Log-Likelihood:                -2721.9\n",
      "Model:                   OrderedModel   AIC:                             5462.\n",
      "Method:            Maximum Likelihood   BIC:                             5513.\n",
      "Date:                Sun, 20 Oct 2024                                         \n",
      "Time:                        15:12:04                                         \n",
      "No. Observations:                2271                                         \n",
      "Df Residuals:                    2262                                         \n",
      "Df Model:                           5                                         \n",
      "=========================================================================================\n",
      "                            coef    std err          z      P>|z|      [0.025      0.975]\n",
      "-----------------------------------------------------------------------------------------\n",
      "voto_2019                -0.1402      0.019     -7.561      0.000      -0.177      -0.104\n",
      "autopercep_perantiper    -0.4155      0.020    -21.111      0.000      -0.454      -0.377\n",
      "massa_ip_conpro           0.3328      0.024     14.069      0.000       0.286       0.379\n",
      "autopercep_conpro         0.1758      0.020      8.942      0.000       0.137       0.214\n",
      "candidato_PASO_2023       0.0619      0.007      8.611      0.000       0.048       0.076\n",
      "1/2                       0.2778      0.243      1.143      0.253      -0.198       0.754\n",
      "2/3                       0.0073      0.056      0.130      0.896      -0.102       0.117\n",
      "3/4                       0.5238      0.040     13.063      0.000       0.445       0.602\n",
      "4/5                       0.5768      0.043     13.350      0.000       0.492       0.661\n",
      "=========================================================================================\n"
     ]
    }
   ],
   "source": [
    "# Resumen del modelo ajustado para verificar los coeficientes de los términos.\n",
    "print(Ordinal_Result.summary())"
   ]
  },
  {
   "cell_type": "markdown",
   "metadata": {},
   "source": [
    "Se realizan predicciones sobre el conjunto de prueba utilizando el modelo ajustado."
   ]
  },
  {
   "cell_type": "code",
   "execution_count": 12,
   "metadata": {},
   "outputs": [],
   "source": [
    "# Realizar predicciones en el set de prueba.\n",
    "Predictions = Ordinal_Result.predict(X_Test)"
   ]
  },
  {
   "cell_type": "markdown",
   "metadata": {},
   "source": [
    "__1. Verificar la linealidad del logit.__\n",
    "\n",
    "----\n",
    "\n",
    "Para verificar la linealidad entre las variables independientes y el logit, se pueden agregar términos cuadráticos y observar si estos son significativos. Verificá si el término cuadrático (edad_sq) es significativo (p-valor < 0.05). Si es significativo, puede indicar que la relación no es lineal."
   ]
  },
  {
   "cell_type": "code",
   "execution_count": 13,
   "metadata": {},
   "outputs": [
    {
     "name": "stdout",
     "output_type": "stream",
     "text": [
      "P-value for voto_2019 (quadratic term): 0.0000\n"
     ]
    },
    {
     "name": "stderr",
     "output_type": "stream",
     "text": [
      "C:\\Users\\tomas\\AppData\\Roaming\\Python\\Python312\\site-packages\\statsmodels\\base\\model.py:607: ConvergenceWarning: Maximum Likelihood optimization failed to converge. Check mle_retvals\n",
      "  warnings.warn(\"Maximum Likelihood optimization failed to \"\n"
     ]
    },
    {
     "name": "stdout",
     "output_type": "stream",
     "text": [
      "P-value for autopercep_perantiper (quadratic term): 0.2590\n"
     ]
    },
    {
     "name": "stderr",
     "output_type": "stream",
     "text": [
      "C:\\Users\\tomas\\AppData\\Roaming\\Python\\Python312\\site-packages\\statsmodels\\base\\model.py:607: ConvergenceWarning: Maximum Likelihood optimization failed to converge. Check mle_retvals\n",
      "  warnings.warn(\"Maximum Likelihood optimization failed to \"\n"
     ]
    },
    {
     "name": "stdout",
     "output_type": "stream",
     "text": [
      "P-value for massa_ip_conpro (quadratic term): 0.0000\n",
      "P-value for autopercep_conpro (quadratic term): 0.0161\n",
      "P-value for candidato_PASO_2023 (quadratic term): 0.0153\n"
     ]
    }
   ],
   "source": [
    "# Verificar la linealidad del logit para cada variable independiente.\n",
    "for Variable in Variables_Independientes:\n",
    "\n",
    "    # Agregar el término cuadrático.\n",
    "    X_Train[f'{Variable}_sq'] = X_Train[Variable] ** 2  \n",
    "\n",
    "    # Ajustar el modelo ordinal con el término cuadrático.\n",
    "    Ordinal_Model = OrderedModel(y_Train, X_Train[[Variable, f'{Variable}_sq']], distr='logit')\n",
    "    Ordinal_Result = Ordinal_Model.fit(disp=0)  # 'disp=0' oculta la salida durante el ajuste.\n",
    "\n",
    "    # Extraer el p-valor del término cuadrático.\n",
    "    p_value = Ordinal_Result.pvalues[f'{Variable}_sq']\n",
    "\n",
    "    # Imprimir solo el p-valor.\n",
    "    print(f\"P-value for {Variable} (quadratic term): {p_value:.4f}\")  # Format p-value to 4 decimal places."
   ]
  },
  {
   "cell_type": "markdown",
   "metadata": {},
   "source": [
    "__2. Verificar la proporcionalidad de las odds.__\n",
    "\n",
    "-----\n",
    "\n",
    "Se puede usar el test de Brant o el test de proporcionalidad de odds. Este test verifica si los coeficientes son constantes a través de los diferentes niveles de la variable dependiente."
   ]
  },
  {
   "cell_type": "code",
   "execution_count": 14,
   "metadata": {},
   "outputs": [
    {
     "ename": "ModuleNotFoundError",
     "evalue": "No module named 'ordinality'",
     "output_type": "error",
     "traceback": [
      "\u001b[1;31m---------------------------------------------------------------------------\u001b[0m",
      "\u001b[1;31mModuleNotFoundError\u001b[0m                       Traceback (most recent call last)",
      "Cell \u001b[1;32mIn[14], line 2\u001b[0m\n\u001b[0;32m      1\u001b[0m \u001b[38;5;66;03m# Realizar el test de Brant.\u001b[39;00m\n\u001b[1;32m----> 2\u001b[0m \u001b[38;5;28;01mfrom\u001b[39;00m \u001b[38;5;21;01mordinality\u001b[39;00m \u001b[38;5;28;01mimport\u001b[39;00m BrantTest\n\u001b[0;32m      4\u001b[0m brant_test \u001b[38;5;241m=\u001b[39m BrantTest(Ordinal_Model)\n\u001b[0;32m      5\u001b[0m brant_test\u001b[38;5;241m.\u001b[39msummary()\n",
      "\u001b[1;31mModuleNotFoundError\u001b[0m: No module named 'ordinality'"
     ]
    }
   ],
   "source": [
    "# Realizar el test de Brant.\n",
    "from ordinality import BrantTest\n",
    "\n",
    "brant_test = BrantTest(Ordinal_Model)\n",
    "brant_test.summary()"
   ]
  },
  {
   "cell_type": "code",
   "execution_count": 15,
   "metadata": {},
   "outputs": [
    {
     "name": "stdout",
     "output_type": "stream",
     "text": [
      "Defaulting to user installation because normal site-packages is not writeable\n",
      "Note: you may need to restart the kernel to use updated packages.\n"
     ]
    },
    {
     "name": "stderr",
     "output_type": "stream",
     "text": [
      "ERROR: Could not find a version that satisfies the requirement ordinality (from versions: none)\n",
      "ERROR: No matching distribution found for ordinality\n"
     ]
    }
   ],
   "source": [
    "pip install ordinality"
   ]
  },
  {
   "cell_type": "markdown",
   "metadata": {},
   "source": [
    "__3. Independencia de las observaciones.__\n",
    "\n",
    "------\n",
    "\n",
    "Para verificar la independencia de las observaciones, se puede revisar si hay duplicados o agrupaciones en los datos. En el contexto de encuestas, esto suele ser asumido, pero es bueno verificar:"
   ]
  },
  {
   "cell_type": "code",
   "execution_count": 143,
   "metadata": {},
   "outputs": [
    {
     "name": "stdout",
     "output_type": "stream",
     "text": [
      "0\n"
     ]
    }
   ],
   "source": [
    "# Revisar duplicados en el DataFrame\n",
    "print(df.duplicated().sum())"
   ]
  }
 ],
 "metadata": {
  "kernelspec": {
   "display_name": "Python 3",
   "language": "python",
   "name": "python3"
  },
  "language_info": {
   "codemirror_mode": {
    "name": "ipython",
    "version": 3
   },
   "file_extension": ".py",
   "mimetype": "text/x-python",
   "name": "python",
   "nbconvert_exporter": "python",
   "pygments_lexer": "ipython3",
   "version": "3.12.6"
  }
 },
 "nbformat": 4,
 "nbformat_minor": 2
}
